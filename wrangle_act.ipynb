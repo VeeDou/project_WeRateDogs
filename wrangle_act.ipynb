{
 "cells": [
  {
   "cell_type": "markdown",
   "metadata": {},
   "source": [
    "# Part 1 数据清洗"
   ]
  },
  {
   "cell_type": "code",
   "execution_count": 1,
   "metadata": {},
   "outputs": [],
   "source": [
    "import json\n",
    "import pandas as pd\n",
    "import requests\n",
    "import numpy as np"
   ]
  },
  {
   "cell_type": "code",
   "execution_count": 2,
   "metadata": {},
   "outputs": [],
   "source": [
    "pd.set_option('display.max_colwidth',1000)"
   ]
  },
  {
   "cell_type": "markdown",
   "metadata": {},
   "source": [
    "## 数据收集"
   ]
  },
  {
   "cell_type": "code",
   "execution_count": 3,
   "metadata": {},
   "outputs": [],
   "source": [
    "# tweet_json\n",
    "title={\"id\":\"\",\"created_at\":\"\",\"retweet_count\":\"\",\"favorite_count\":\"\",\"full_text\":\"\",\"retweeted_status\":\"\",\"entities\":\"\"}   \n",
    "column_name={\"id\":\"\",\"created_at\":\"\",\"retweet_count\":\"\",\"favorite_count\":\"\",\"full_text\":\"\",\"retweeted_status\":\"\",\"expanded_url\":\"\"}      \n",
    "title_list=title.keys()\n",
    "df = pd.DataFrame(column_name,index=[])"
   ]
  },
  {
   "cell_type": "code",
   "execution_count": 4,
   "metadata": {},
   "outputs": [],
   "source": [
    "#fu*k df =df.append()\n",
    "for line in  open(\"tweet_json.txt\",'r'):\n",
    "    dict_line=json.loads(line)\n",
    "    for x in list(dict_line):\n",
    "        if x not in title_list:\n",
    "            dict_line.pop(x)\n",
    "    try:\n",
    "        dict_line['expanded_url']=dict_line[\"entities\"][\"media\"][0][\"expanded_url\"]\n",
    "        dict_line.pop(\"entities\")\n",
    "    except:\n",
    "        dict_line['expanded_url']=None\n",
    "        dict_line.pop(\"entities\")\n",
    "    df=df.append(dict_line, ignore_index=True )    "
   ]
  },
  {
   "cell_type": "code",
   "execution_count": 5,
   "metadata": {},
   "outputs": [],
   "source": [
    "# twitter-archive-enhanced\n",
    "df_enhanced=pd.read_csv('twitter-archive-enhanced.csv')"
   ]
  },
  {
   "cell_type": "code",
   "execution_count": 6,
   "metadata": {},
   "outputs": [],
   "source": [
    "#image-predictions.tsv\n",
    "url='https://raw.githubusercontent.com/udacity/new-dand-advanced-china/master/%E6%95%B0%E6%8D%AE%E6%B8%85%E6%B4%97/WeRateDogs%E9%A1%B9%E7%9B%AE/image-predictions.tsv'\n",
    "response = requests.get(url).text\n",
    "fh = open(\"image-predictions.tsv\", 'w')\n",
    "fh.write(response)\n",
    "fh.close()\n",
    "df_img=pd.read_csv(\"image-predictions.tsv\",sep=\"\\t\")"
   ]
  },
  {
   "cell_type": "markdown",
   "metadata": {},
   "source": [
    "## 数据评估\n",
    "   1.只取含有url的非转发数据  \n",
    "   2.teewt_json.txt作为twitter-archive-enhanced的补充，可以把需要的或者模糊的内容重新提取一次  \n",
    "   3.df_img是对图片进行预测的结果  \n",
    "   df  df_img df_enhanced"
   ]
  },
  {
   "cell_type": "markdown",
   "metadata": {},
   "source": [
    "### 数据评估1 df_enhanced"
   ]
  },
  {
   "cell_type": "code",
   "execution_count": 7,
   "metadata": {},
   "outputs": [
    {
     "name": "stdout",
     "output_type": "stream",
     "text": [
      "<class 'pandas.core.frame.DataFrame'>\n",
      "RangeIndex: 2356 entries, 0 to 2355\n",
      "Data columns (total 17 columns):\n",
      "tweet_id                      2356 non-null int64\n",
      "in_reply_to_status_id         78 non-null float64\n",
      "in_reply_to_user_id           78 non-null float64\n",
      "timestamp                     2356 non-null object\n",
      "source                        2356 non-null object\n",
      "text                          2356 non-null object\n",
      "retweeted_status_id           181 non-null float64\n",
      "retweeted_status_user_id      181 non-null float64\n",
      "retweeted_status_timestamp    181 non-null object\n",
      "expanded_urls                 2297 non-null object\n",
      "rating_numerator              2356 non-null int64\n",
      "rating_denominator            2356 non-null int64\n",
      "name                          2356 non-null object\n",
      "doggo                         2356 non-null object\n",
      "floofer                       2356 non-null object\n",
      "pupper                        2356 non-null object\n",
      "puppo                         2356 non-null object\n",
      "dtypes: float64(4), int64(3), object(10)\n",
      "memory usage: 313.0+ KB\n"
     ]
    }
   ],
   "source": [
    "df_enhanced.info()"
   ]
  },
  {
   "cell_type": "code",
   "execution_count": 8,
   "metadata": {},
   "outputs": [
    {
     "name": "stdout",
     "output_type": "stream",
     "text": [
      "<class 'pandas.core.frame.DataFrame'>\n",
      "Int64Index: 2175 entries, 0 to 2355\n",
      "Data columns (total 17 columns):\n",
      "tweet_id                      2175 non-null int64\n",
      "in_reply_to_status_id         78 non-null float64\n",
      "in_reply_to_user_id           78 non-null float64\n",
      "timestamp                     2175 non-null object\n",
      "source                        2175 non-null object\n",
      "text                          2175 non-null object\n",
      "retweeted_status_id           0 non-null float64\n",
      "retweeted_status_user_id      0 non-null float64\n",
      "retweeted_status_timestamp    0 non-null object\n",
      "expanded_urls                 2117 non-null object\n",
      "rating_numerator              2175 non-null int64\n",
      "rating_denominator            2175 non-null int64\n",
      "name                          2175 non-null object\n",
      "doggo                         2175 non-null object\n",
      "floofer                       2175 non-null object\n",
      "pupper                        2175 non-null object\n",
      "puppo                         2175 non-null object\n",
      "dtypes: float64(4), int64(3), object(10)\n",
      "memory usage: 305.9+ KB\n"
     ]
    }
   ],
   "source": [
    "df_enhanced[df_enhanced.retweeted_status_id.isnull()].info()"
   ]
  },
  {
   "cell_type": "code",
   "execution_count": 9,
   "metadata": {},
   "outputs": [
    {
     "data": {
      "text/plain": [
       "None       680\n",
       "a           55\n",
       "Lucy        11\n",
       "Charlie     11\n",
       "Oliver      10\n",
       "Name: name, dtype: int64"
      ]
     },
     "execution_count": 9,
     "metadata": {},
     "output_type": "execute_result"
    }
   ],
   "source": [
    "df_enhanced[df_enhanced.retweeted_status_id.isnull()].name.value_counts().head()"
   ]
  },
  {
   "cell_type": "code",
   "execution_count": 10,
   "metadata": {},
   "outputs": [
    {
     "data": {
      "text/plain": [
       "<a href=\"http://twitter.com/download/iphone\" rel=\"nofollow\">Twitter for iPhone</a>     2042\n",
       "<a href=\"http://vine.co\" rel=\"nofollow\">Vine - Make a Scene</a>                          91\n",
       "<a href=\"http://twitter.com\" rel=\"nofollow\">Twitter Web Client</a>                       31\n",
       "<a href=\"https://about.twitter.com/products/tweetdeck\" rel=\"nofollow\">TweetDeck</a>      11\n",
       "Name: source, dtype: int64"
      ]
     },
     "execution_count": 10,
     "metadata": {},
     "output_type": "execute_result"
    }
   ],
   "source": [
    "df_enhanced[df_enhanced.retweeted_status_id.isnull()].source.value_counts().head()"
   ]
  },
  {
   "cell_type": "code",
   "execution_count": 11,
   "metadata": {},
   "outputs": [
    {
     "data": {
      "text/plain": [
       "None      1941\n",
       "pupper     234\n",
       "Name: pupper, dtype: int64"
      ]
     },
     "execution_count": 11,
     "metadata": {},
     "output_type": "execute_result"
    }
   ],
   "source": [
    "df_enhanced[df_enhanced.retweeted_status_id.isnull()].pupper.value_counts().head()"
   ]
  },
  {
   "cell_type": "code",
   "execution_count": 12,
   "metadata": {},
   "outputs": [
    {
     "data": {
      "text/plain": [
       "None       680\n",
       "a           55\n",
       "Lucy        11\n",
       "Charlie     11\n",
       "Oliver      10\n",
       "Name: name, dtype: int64"
      ]
     },
     "execution_count": 12,
     "metadata": {},
     "output_type": "execute_result"
    }
   ],
   "source": [
    "df_enhanced[df_enhanced.retweeted_status_id.isnull()].name.value_counts().head()"
   ]
  },
  {
   "cell_type": "markdown",
   "metadata": {},
   "source": [
    "### 数据评估2 df_img"
   ]
  },
  {
   "cell_type": "code",
   "execution_count": 13,
   "metadata": {
    "scrolled": true
   },
   "outputs": [
    {
     "name": "stdout",
     "output_type": "stream",
     "text": [
      "<class 'pandas.core.frame.DataFrame'>\n",
      "RangeIndex: 2075 entries, 0 to 2074\n",
      "Data columns (total 12 columns):\n",
      "tweet_id    2075 non-null int64\n",
      "jpg_url     2075 non-null object\n",
      "img_num     2075 non-null int64\n",
      "p1          2075 non-null object\n",
      "p1_conf     2075 non-null float64\n",
      "p1_dog      2075 non-null bool\n",
      "p2          2075 non-null object\n",
      "p2_conf     2075 non-null float64\n",
      "p2_dog      2075 non-null bool\n",
      "p3          2075 non-null object\n",
      "p3_conf     2075 non-null float64\n",
      "p3_dog      2075 non-null bool\n",
      "dtypes: bool(3), float64(3), int64(2), object(4)\n",
      "memory usage: 152.1+ KB\n"
     ]
    }
   ],
   "source": [
    "df_img.info()"
   ]
  },
  {
   "cell_type": "code",
   "execution_count": 14,
   "metadata": {},
   "outputs": [
    {
     "data": {
      "text/plain": [
       "count    2075.000000\n",
       "mean        0.594548\n",
       "std         0.271174\n",
       "min         0.044333\n",
       "25%         0.364412\n",
       "50%         0.588230\n",
       "75%         0.843855\n",
       "max         1.000000\n",
       "Name: p1_conf, dtype: float64"
      ]
     },
     "execution_count": 14,
     "metadata": {},
     "output_type": "execute_result"
    }
   ],
   "source": [
    "df_img.p1_conf.describe()"
   ]
  },
  {
   "cell_type": "code",
   "execution_count": 15,
   "metadata": {},
   "outputs": [
    {
     "data": {
      "text/plain": [
       "True    2075\n",
       "dtype: int64"
      ]
     },
     "execution_count": 15,
     "metadata": {},
     "output_type": "execute_result"
    }
   ],
   "source": [
    "(df_img.p1_conf>df_img.p2_conf).value_counts()"
   ]
  },
  {
   "cell_type": "code",
   "execution_count": 16,
   "metadata": {},
   "outputs": [
    {
     "data": {
      "text/html": [
       "<div>\n",
       "<style scoped>\n",
       "    .dataframe tbody tr th:only-of-type {\n",
       "        vertical-align: middle;\n",
       "    }\n",
       "\n",
       "    .dataframe tbody tr th {\n",
       "        vertical-align: top;\n",
       "    }\n",
       "\n",
       "    .dataframe thead th {\n",
       "        text-align: right;\n",
       "    }\n",
       "</style>\n",
       "<table border=\"1\" class=\"dataframe\">\n",
       "  <thead>\n",
       "    <tr style=\"text-align: right;\">\n",
       "      <th></th>\n",
       "      <th>p1_dog</th>\n",
       "      <th>p1_conf</th>\n",
       "      <th>p1</th>\n",
       "      <th>jpg_url</th>\n",
       "      <th>tweet_id</th>\n",
       "    </tr>\n",
       "  </thead>\n",
       "  <tbody>\n",
       "    <tr>\n",
       "      <th>6</th>\n",
       "      <td>False</td>\n",
       "      <td>0.933012</td>\n",
       "      <td>box_turtle</td>\n",
       "      <td>https://pbs.twimg.com/media/CT5KoJ1WoAAJash.jpg</td>\n",
       "      <td>666051853826850816</td>\n",
       "    </tr>\n",
       "    <tr>\n",
       "      <th>8</th>\n",
       "      <td>False</td>\n",
       "      <td>0.962465</td>\n",
       "      <td>shopping_cart</td>\n",
       "      <td>https://pbs.twimg.com/media/CT5PY90WoAAQGLo.jpg</td>\n",
       "      <td>666057090499244032</td>\n",
       "    </tr>\n",
       "    <tr>\n",
       "      <th>17</th>\n",
       "      <td>False</td>\n",
       "      <td>0.965932</td>\n",
       "      <td>hen</td>\n",
       "      <td>https://pbs.twimg.com/media/CT56LSZWoAAlJj2.jpg</td>\n",
       "      <td>666104133288665088</td>\n",
       "    </tr>\n",
       "    <tr>\n",
       "      <th>18</th>\n",
       "      <td>False</td>\n",
       "      <td>0.086502</td>\n",
       "      <td>desktop_computer</td>\n",
       "      <td>https://pbs.twimg.com/media/CT8QCd1WEAADXws.jpg</td>\n",
       "      <td>666268910803644416</td>\n",
       "    </tr>\n",
       "    <tr>\n",
       "      <th>21</th>\n",
       "      <td>False</td>\n",
       "      <td>0.914671</td>\n",
       "      <td>three-toed_sloth</td>\n",
       "      <td>https://pbs.twimg.com/media/CT8mx7KW4AEQu8N.jpg</td>\n",
       "      <td>666293911632134144</td>\n",
       "    </tr>\n",
       "  </tbody>\n",
       "</table>\n",
       "</div>"
      ],
      "text/plain": [
       "    p1_dog   p1_conf                p1  \\\n",
       "6    False  0.933012        box_turtle   \n",
       "8    False  0.962465     shopping_cart   \n",
       "17   False  0.965932               hen   \n",
       "18   False  0.086502  desktop_computer   \n",
       "21   False  0.914671  three-toed_sloth   \n",
       "\n",
       "                                            jpg_url            tweet_id  \n",
       "6   https://pbs.twimg.com/media/CT5KoJ1WoAAJash.jpg  666051853826850816  \n",
       "8   https://pbs.twimg.com/media/CT5PY90WoAAQGLo.jpg  666057090499244032  \n",
       "17  https://pbs.twimg.com/media/CT56LSZWoAAlJj2.jpg  666104133288665088  \n",
       "18  https://pbs.twimg.com/media/CT8QCd1WEAADXws.jpg  666268910803644416  \n",
       "21  https://pbs.twimg.com/media/CT8mx7KW4AEQu8N.jpg  666293911632134144  "
      ]
     },
     "execution_count": 16,
     "metadata": {},
     "output_type": "execute_result"
    }
   ],
   "source": [
    "# df_img[['p1_dog','p1_conf','p1','jpg_url']]    \n",
    "df_img[df_img.p1_dog==False][['p1_dog','p1_conf','p1','jpg_url',\"tweet_id\"]].head()\n",
    "# img_temp[img_temp.p1.isin(['seat_belt','web_site','teddy'])]"
   ]
  },
  {
   "cell_type": "markdown",
   "metadata": {},
   "source": [
    "### 数据评估3 df_tweet_json"
   ]
  },
  {
   "cell_type": "code",
   "execution_count": 17,
   "metadata": {},
   "outputs": [
    {
     "name": "stdout",
     "output_type": "stream",
     "text": [
      "<class 'pandas.core.frame.DataFrame'>\n",
      "RangeIndex: 2352 entries, 0 to 2351\n",
      "Data columns (total 7 columns):\n",
      "created_at          2352 non-null object\n",
      "expanded_url        2073 non-null object\n",
      "favorite_count      2352 non-null object\n",
      "full_text           2352 non-null object\n",
      "id                  2352 non-null object\n",
      "retweet_count       2352 non-null object\n",
      "retweeted_status    177 non-null object\n",
      "dtypes: object(7)\n",
      "memory usage: 128.7+ KB\n"
     ]
    }
   ],
   "source": [
    "df.info()"
   ]
  },
  {
   "cell_type": "code",
   "execution_count": 18,
   "metadata": {},
   "outputs": [
    {
     "data": {
      "text/html": [
       "<div>\n",
       "<style scoped>\n",
       "    .dataframe tbody tr th:only-of-type {\n",
       "        vertical-align: middle;\n",
       "    }\n",
       "\n",
       "    .dataframe tbody tr th {\n",
       "        vertical-align: top;\n",
       "    }\n",
       "\n",
       "    .dataframe thead th {\n",
       "        text-align: right;\n",
       "    }\n",
       "</style>\n",
       "<table border=\"1\" class=\"dataframe\">\n",
       "  <thead>\n",
       "    <tr style=\"text-align: right;\">\n",
       "      <th></th>\n",
       "      <th>created_at</th>\n",
       "      <th>expanded_url</th>\n",
       "      <th>favorite_count</th>\n",
       "      <th>full_text</th>\n",
       "      <th>id</th>\n",
       "      <th>retweet_count</th>\n",
       "      <th>retweeted_status</th>\n",
       "    </tr>\n",
       "  </thead>\n",
       "  <tbody>\n",
       "    <tr>\n",
       "      <th>1683</th>\n",
       "      <td>Mon Dec 28 20:57:50 +0000 2015</td>\n",
       "      <td>https://twitter.com/dog_rates/status/681579835668455424/photo/1</td>\n",
       "      <td>3873</td>\n",
       "      <td>This is Apollo. He thought you weren't coming back so he had a mental breakdown. 8/10 we've all been there https://t.co/ojUBrDCHLT</td>\n",
       "      <td>681579835668455424</td>\n",
       "      <td>1483</td>\n",
       "      <td>NaN</td>\n",
       "    </tr>\n",
       "    <tr>\n",
       "      <th>1365</th>\n",
       "      <td>Wed Feb 24 03:21:41 +0000 2016</td>\n",
       "      <td>None</td>\n",
       "      <td>3483</td>\n",
       "      <td>This is Rudy. He's going to be a star. 13/10 talented af (vid by @madalynrossi) https://t.co/Dph4FDGoMd</td>\n",
       "      <td>702332542343577600</td>\n",
       "      <td>1740</td>\n",
       "      <td>NaN</td>\n",
       "    </tr>\n",
       "    <tr>\n",
       "      <th>1975</th>\n",
       "      <td>Sat Dec 05 03:28:25 +0000 2015</td>\n",
       "      <td>https://twitter.com/dog_rates/status/672980819271634944/photo/1</td>\n",
       "      <td>1921</td>\n",
       "      <td>Extraordinary dog here. Looks large. Just a head. No body. Rather intrusive. 5/10 would still pet https://t.co/ufHWUFA9Pu</td>\n",
       "      <td>672980819271634944</td>\n",
       "      <td>1071</td>\n",
       "      <td>NaN</td>\n",
       "    </tr>\n",
       "  </tbody>\n",
       "</table>\n",
       "</div>"
      ],
      "text/plain": [
       "                          created_at  \\\n",
       "1683  Mon Dec 28 20:57:50 +0000 2015   \n",
       "1365  Wed Feb 24 03:21:41 +0000 2016   \n",
       "1975  Sat Dec 05 03:28:25 +0000 2015   \n",
       "\n",
       "                                                         expanded_url  \\\n",
       "1683  https://twitter.com/dog_rates/status/681579835668455424/photo/1   \n",
       "1365                                                             None   \n",
       "1975  https://twitter.com/dog_rates/status/672980819271634944/photo/1   \n",
       "\n",
       "     favorite_count  \\\n",
       "1683           3873   \n",
       "1365           3483   \n",
       "1975           1921   \n",
       "\n",
       "                                                                                                                               full_text  \\\n",
       "1683  This is Apollo. He thought you weren't coming back so he had a mental breakdown. 8/10 we've all been there https://t.co/ojUBrDCHLT   \n",
       "1365                             This is Rudy. He's going to be a star. 13/10 talented af (vid by @madalynrossi) https://t.co/Dph4FDGoMd   \n",
       "1975           Extraordinary dog here. Looks large. Just a head. No body. Rather intrusive. 5/10 would still pet https://t.co/ufHWUFA9Pu   \n",
       "\n",
       "                      id retweet_count retweeted_status  \n",
       "1683  681579835668455424          1483              NaN  \n",
       "1365  702332542343577600          1740              NaN  \n",
       "1975  672980819271634944          1071              NaN  "
      ]
     },
     "execution_count": 18,
     "metadata": {},
     "output_type": "execute_result"
    }
   ],
   "source": [
    "df.sample(3)"
   ]
  },
  {
   "cell_type": "code",
   "execution_count": 19,
   "metadata": {},
   "outputs": [
    {
     "data": {
      "text/plain": [
       "667495797102141441    1\n",
       "746757706116112384    1\n",
       "732375214819057664    1\n",
       "676897532954456065    1\n",
       "838201503651401729    1\n",
       "Name: id, dtype: int64"
      ]
     },
     "execution_count": 19,
     "metadata": {},
     "output_type": "execute_result"
    }
   ],
   "source": [
    "df.id.value_counts().head()"
   ]
  },
  {
   "cell_type": "markdown",
   "metadata": {},
   "source": [
    "## 定义问题\n",
    "### 1. df_enhanced\n",
    "#### 质量问题\n",
    "1.删除转发的，包含图片的  \n",
    "2.删除错误的姓名   \n",
    "3.修改日期类型  \n",
    "4.修改评分的类型  \n",
    "5.将狗狗的身份改为数字  \n",
    "#### 清洁度问题 \n",
    "A.删除转发的内容      \n",
    "B.删除多余的转发字段、回复字段和评分的分子分母字段 "
   ]
  },
  {
   "cell_type": "markdown",
   "metadata": {},
   "source": [
    "###  2.df_tweet_json\n",
    "#### 质量问题\n",
    "1.日期（格式不清楚这样方不方便排序，需要改成日期类型）  \n",
    "2.favorite_count  改成int   \n",
    "3.retweet_count  改成int      \n",
    "4.评分的分子分母  改成int    \n",
    "5.填充name的空值为None    \n",
    "6.将提取到的错误狗狗name，替换成None    \n",
    "7.需要从full_text中取出评分 用正则提取 （评分）     \n",
    "8.需要从full_text中提取狗狗名字    \n",
    "9.需要从full_text中提取狗狗 \"地位\" (即 doggo、floofer、pupper 和 puppo)。  \n",
    "\n",
    " #### 清洁度问题 \n",
    "A.需要将评分拆分成两列，一列是分子，一列分母    \n",
    "B.计算分数比值，删除分子分母字段  \n",
    "C.删除转发的tweet"
   ]
  },
  {
   "cell_type": "markdown",
   "metadata": {},
   "source": [
    "###  3.df_img\n",
    "#### 质量问题\n",
    "空\n",
    "#### 清洁度问题 \n",
    "空"
   ]
  },
  {
   "cell_type": "markdown",
   "metadata": {},
   "source": [
    "## 备份和清洗数据\n",
    "### df_enh_clean"
   ]
  },
  {
   "cell_type": "code",
   "execution_count": 20,
   "metadata": {},
   "outputs": [],
   "source": [
    "df_enhan_clean = df_enhanced"
   ]
  },
  {
   "cell_type": "code",
   "execution_count": 21,
   "metadata": {},
   "outputs": [],
   "source": [
    "# 1.删除转发数据\n",
    "df_enhan_clean = df_enhan_clean[df_enhanced.retweeted_status_id.isnull()]"
   ]
  },
  {
   "cell_type": "code",
   "execution_count": 22,
   "metadata": {},
   "outputs": [
    {
     "name": "stderr",
     "output_type": "stream",
     "text": [
      "d:\\anaconda\\lib\\site-packages\\ipykernel_launcher.py:4: SettingWithCopyWarning: \n",
      "A value is trying to be set on a copy of a slice from a DataFrame.\n",
      "Try using .loc[row_indexer,col_indexer] = value instead\n",
      "\n",
      "See the caveats in the documentation: http://pandas.pydata.org/pandas-docs/stable/indexing.html#indexing-view-versus-copy\n",
      "  after removing the cwd from sys.path.\n",
      "d:\\anaconda\\lib\\site-packages\\pandas\\core\\indexing.py:194: SettingWithCopyWarning: \n",
      "A value is trying to be set on a copy of a slice from a DataFrame\n",
      "\n",
      "See the caveats in the documentation: http://pandas.pydata.org/pandas-docs/stable/indexing.html#indexing-view-versus-copy\n",
      "  self._setitem_with_indexer(indexer, value)\n",
      "d:\\anaconda\\lib\\site-packages\\ipykernel_launcher.py:5: SettingWithCopyWarning: \n",
      "A value is trying to be set on a copy of a slice from a DataFrame\n",
      "\n",
      "See the caveats in the documentation: http://pandas.pydata.org/pandas-docs/stable/indexing.html#indexing-view-versus-copy\n",
      "  \"\"\"\n",
      "d:\\anaconda\\lib\\site-packages\\ipykernel_launcher.py:6: SettingWithCopyWarning: \n",
      "A value is trying to be set on a copy of a slice from a DataFrame.\n",
      "Try using .loc[row_indexer,col_indexer] = value instead\n",
      "\n",
      "See the caveats in the documentation: http://pandas.pydata.org/pandas-docs/stable/indexing.html#indexing-view-versus-copy\n",
      "  \n"
     ]
    }
   ],
   "source": [
    "#5.将狗狗的身份改为数字\n",
    "staus_list=['doggo','pupper','puppo','floofer']\n",
    "for status in staus_list:\n",
    "    df_enhan_clean[status]=df_enhan_clean[status].isin([status]) \n",
    "    df_enhan_clean[status].loc[df_enhan_clean[status]==True]=1\n",
    "    df_enhan_clean[status]=df_enhan_clean[status].astype(int)\n",
    "    "
   ]
  },
  {
   "cell_type": "code",
   "execution_count": 23,
   "metadata": {},
   "outputs": [
    {
     "data": {
      "text/plain": [
       "0    2165\n",
       "1      10\n",
       "Name: floofer, dtype: int64"
      ]
     },
     "execution_count": 23,
     "metadata": {},
     "output_type": "execute_result"
    }
   ],
   "source": [
    "df_enhan_clean.floofer.value_counts()"
   ]
  },
  {
   "cell_type": "code",
   "execution_count": 24,
   "metadata": {
    "scrolled": true
   },
   "outputs": [
    {
     "name": "stderr",
     "output_type": "stream",
     "text": [
      "d:\\anaconda\\lib\\site-packages\\ipykernel_launcher.py:2: SettingWithCopyWarning: \n",
      "A value is trying to be set on a copy of a slice from a DataFrame.\n",
      "Try using .loc[row_indexer,col_indexer] = value instead\n",
      "\n",
      "See the caveats in the documentation: http://pandas.pydata.org/pandas-docs/stable/indexing.html#indexing-view-versus-copy\n",
      "  \n",
      "d:\\anaconda\\lib\\site-packages\\ipykernel_launcher.py:3: SettingWithCopyWarning: \n",
      "A value is trying to be set on a copy of a slice from a DataFrame\n",
      "\n",
      "See the caveats in the documentation: http://pandas.pydata.org/pandas-docs/stable/indexing.html#indexing-view-versus-copy\n",
      "  This is separate from the ipykernel package so we can avoid doing imports until\n",
      "d:\\anaconda\\lib\\site-packages\\pandas\\core\\generic.py:5984: SettingWithCopyWarning: \n",
      "A value is trying to be set on a copy of a slice from a DataFrame\n",
      "\n",
      "See the caveats in the documentation: http://pandas.pydata.org/pandas-docs/stable/indexing.html#indexing-view-versus-copy\n",
      "  self._update_inplace(new_data)\n",
      "d:\\anaconda\\lib\\site-packages\\IPython\\core\\interactiveshell.py:2910: SettingWithCopyWarning: \n",
      "A value is trying to be set on a copy of a slice from a DataFrame\n",
      "\n",
      "See the caveats in the documentation: http://pandas.pydata.org/pandas-docs/stable/indexing.html#indexing-view-versus-copy\n",
      "  exec(code_obj, self.user_global_ns, self.user_ns)\n",
      "d:\\anaconda\\lib\\site-packages\\ipykernel_launcher.py:4: SettingWithCopyWarning: \n",
      "A value is trying to be set on a copy of a slice from a DataFrame.\n",
      "Try using .loc[row_indexer,col_indexer] = value instead\n",
      "\n",
      "See the caveats in the documentation: http://pandas.pydata.org/pandas-docs/stable/indexing.html#indexing-view-versus-copy\n",
      "  after removing the cwd from sys.path.\n"
     ]
    }
   ],
   "source": [
    "# B 5 计算评分比例，并修改格式\n",
    "df_enhan_clean['score']=df_enhan_clean['rating_numerator']/df_enhan_clean['rating_denominator']*1.0\n",
    "df_enhan_clean['score'][df_enhan_clean.tweet_id==835246439529840640]=13/10\n",
    "df_enhan_clean['score']=df_enhan_clean['score'].round(2)"
   ]
  },
  {
   "cell_type": "code",
   "execution_count": 25,
   "metadata": {},
   "outputs": [
    {
     "data": {
      "text/plain": [
       "1.20      504\n",
       "1.00      444\n",
       "1.10      431\n",
       "1.30      308\n",
       "0.90      156\n",
       "0.80       98\n",
       "0.70       53\n",
       "1.40       43\n",
       "0.50       37\n",
       "0.60       32\n",
       "0.30       19\n",
       "0.40       15\n",
       "0.20       11\n",
       "0.10        7\n",
       "0.00        2\n",
       "42.00       2\n",
       "1.70        1\n",
       "2.70        1\n",
       "18.20       1\n",
       "2.60        1\n",
       "0.82        1\n",
       "177.60      1\n",
       "0.73        1\n",
       "0.64        1\n",
       "1.25        1\n",
       "7.50        1\n",
       "1.50        1\n",
       "66.60       1\n",
       "3.43        1\n",
       "Name: score, dtype: int64"
      ]
     },
     "execution_count": 25,
     "metadata": {},
     "output_type": "execute_result"
    }
   ],
   "source": [
    "df_enhan_clean['score'].value_counts()"
   ]
  },
  {
   "cell_type": "code",
   "execution_count": 26,
   "metadata": {},
   "outputs": [
    {
     "name": "stderr",
     "output_type": "stream",
     "text": [
      "d:\\anaconda\\lib\\site-packages\\ipykernel_launcher.py:2: SettingWithCopyWarning: \n",
      "A value is trying to be set on a copy of a slice from a DataFrame\n",
      "\n",
      "See the caveats in the documentation: http://pandas.pydata.org/pandas-docs/stable/indexing.html#indexing-view-versus-copy\n",
      "  \n",
      "d:\\anaconda\\lib\\site-packages\\ipykernel_launcher.py:3: SettingWithCopyWarning: \n",
      "A value is trying to be set on a copy of a slice from a DataFrame\n",
      "\n",
      "See the caveats in the documentation: http://pandas.pydata.org/pandas-docs/stable/indexing.html#indexing-view-versus-copy\n",
      "  This is separate from the ipykernel package so we can avoid doing imports until\n",
      "d:\\anaconda\\lib\\site-packages\\ipykernel_launcher.py:4: SettingWithCopyWarning: \n",
      "A value is trying to be set on a copy of a slice from a DataFrame\n",
      "\n",
      "See the caveats in the documentation: http://pandas.pydata.org/pandas-docs/stable/indexing.html#indexing-view-versus-copy\n",
      "  after removing the cwd from sys.path.\n"
     ]
    }
   ],
   "source": [
    "# 删除多余字段\n",
    "df_enhan_clean.drop(['retweeted_status_id','retweeted_status_user_id','retweeted_status_timestamp'],axis=1,inplace=True)\n",
    "df_enhan_clean.drop(['in_reply_to_status_id','in_reply_to_user_id'],axis=1,inplace=True)\n",
    "df_enhan_clean.drop(['rating_numerator','rating_denominator'],axis=1,inplace=True)"
   ]
  },
  {
   "cell_type": "code",
   "execution_count": 27,
   "metadata": {},
   "outputs": [
    {
     "name": "stdout",
     "output_type": "stream",
     "text": [
      "<class 'pandas.core.frame.DataFrame'>\n",
      "Int64Index: 2175 entries, 0 to 2355\n",
      "Data columns (total 11 columns):\n",
      "tweet_id         2175 non-null int64\n",
      "timestamp        2175 non-null object\n",
      "source           2175 non-null object\n",
      "text             2175 non-null object\n",
      "expanded_urls    2117 non-null object\n",
      "name             2175 non-null object\n",
      "doggo            2175 non-null int32\n",
      "floofer          2175 non-null int32\n",
      "pupper           2175 non-null int32\n",
      "puppo            2175 non-null int32\n",
      "score            2175 non-null float64\n",
      "dtypes: float64(1), int32(4), int64(1), object(5)\n",
      "memory usage: 169.9+ KB\n"
     ]
    }
   ],
   "source": [
    "df_enhan_clean.info()"
   ]
  },
  {
   "cell_type": "code",
   "execution_count": 28,
   "metadata": {},
   "outputs": [
    {
     "data": {
      "text/html": [
       "<div>\n",
       "<style scoped>\n",
       "    .dataframe tbody tr th:only-of-type {\n",
       "        vertical-align: middle;\n",
       "    }\n",
       "\n",
       "    .dataframe tbody tr th {\n",
       "        vertical-align: top;\n",
       "    }\n",
       "\n",
       "    .dataframe thead th {\n",
       "        text-align: right;\n",
       "    }\n",
       "</style>\n",
       "<table border=\"1\" class=\"dataframe\">\n",
       "  <thead>\n",
       "    <tr style=\"text-align: right;\">\n",
       "      <th></th>\n",
       "      <th>tweet_id</th>\n",
       "      <th>timestamp</th>\n",
       "      <th>source</th>\n",
       "      <th>text</th>\n",
       "      <th>expanded_urls</th>\n",
       "      <th>name</th>\n",
       "      <th>doggo</th>\n",
       "      <th>floofer</th>\n",
       "      <th>pupper</th>\n",
       "      <th>puppo</th>\n",
       "      <th>score</th>\n",
       "    </tr>\n",
       "  </thead>\n",
       "  <tbody>\n",
       "    <tr>\n",
       "      <th>1757</th>\n",
       "      <td>678764513869611008</td>\n",
       "      <td>2015-12-21 02:30:45 +0000</td>\n",
       "      <td>&lt;a href=\"http://twitter.com/download/iphone\" rel=\"nofollow\"&gt;Twitter for iPhone&lt;/a&gt;</td>\n",
       "      <td>Meet Wilson. He got caught humping the futon. He's like \"dude, help me out here\" 10/10 I'd help Wilson out https://t.co/m6XoclB0qv</td>\n",
       "      <td>https://twitter.com/dog_rates/status/678764513869611008/photo/1</td>\n",
       "      <td>Wilson</td>\n",
       "      <td>0</td>\n",
       "      <td>0</td>\n",
       "      <td>0</td>\n",
       "      <td>0</td>\n",
       "      <td>1.0</td>\n",
       "    </tr>\n",
       "    <tr>\n",
       "      <th>1201</th>\n",
       "      <td>716447146686459905</td>\n",
       "      <td>2016-04-03 02:08:05 +0000</td>\n",
       "      <td>&lt;a href=\"http://vine.co\" rel=\"nofollow\"&gt;Vine - Make a Scene&lt;/a&gt;</td>\n",
       "      <td>This is Ozzy. He's acrobatic af. Legendary pupper status achieved. 13/10 https://t.co/gHWsCTu90E</td>\n",
       "      <td>https://vine.co/v/eMmXVPn5eQK</td>\n",
       "      <td>Ozzy</td>\n",
       "      <td>0</td>\n",
       "      <td>0</td>\n",
       "      <td>1</td>\n",
       "      <td>0</td>\n",
       "      <td>1.3</td>\n",
       "    </tr>\n",
       "    <tr>\n",
       "      <th>668</th>\n",
       "      <td>790277117346975746</td>\n",
       "      <td>2016-10-23 19:42:02 +0000</td>\n",
       "      <td>&lt;a href=\"http://twitter.com/download/iphone\" rel=\"nofollow\"&gt;Twitter for iPhone&lt;/a&gt;</td>\n",
       "      <td>This is Bruce. He never backs down from a challenge. 11/10 you got this Bruce https://t.co/aI7umZHIq7</td>\n",
       "      <td>https://twitter.com/dog_rates/status/790277117346975746/photo/1</td>\n",
       "      <td>Bruce</td>\n",
       "      <td>0</td>\n",
       "      <td>0</td>\n",
       "      <td>0</td>\n",
       "      <td>0</td>\n",
       "      <td>1.1</td>\n",
       "    </tr>\n",
       "  </tbody>\n",
       "</table>\n",
       "</div>"
      ],
      "text/plain": [
       "                tweet_id                  timestamp  \\\n",
       "1757  678764513869611008  2015-12-21 02:30:45 +0000   \n",
       "1201  716447146686459905  2016-04-03 02:08:05 +0000   \n",
       "668   790277117346975746  2016-10-23 19:42:02 +0000   \n",
       "\n",
       "                                                                                  source  \\\n",
       "1757  <a href=\"http://twitter.com/download/iphone\" rel=\"nofollow\">Twitter for iPhone</a>   \n",
       "1201                     <a href=\"http://vine.co\" rel=\"nofollow\">Vine - Make a Scene</a>   \n",
       "668   <a href=\"http://twitter.com/download/iphone\" rel=\"nofollow\">Twitter for iPhone</a>   \n",
       "\n",
       "                                                                                                                                    text  \\\n",
       "1757  Meet Wilson. He got caught humping the futon. He's like \"dude, help me out here\" 10/10 I'd help Wilson out https://t.co/m6XoclB0qv   \n",
       "1201                                    This is Ozzy. He's acrobatic af. Legendary pupper status achieved. 13/10 https://t.co/gHWsCTu90E   \n",
       "668                                This is Bruce. He never backs down from a challenge. 11/10 you got this Bruce https://t.co/aI7umZHIq7   \n",
       "\n",
       "                                                        expanded_urls    name  \\\n",
       "1757  https://twitter.com/dog_rates/status/678764513869611008/photo/1  Wilson   \n",
       "1201                                    https://vine.co/v/eMmXVPn5eQK    Ozzy   \n",
       "668   https://twitter.com/dog_rates/status/790277117346975746/photo/1   Bruce   \n",
       "\n",
       "      doggo  floofer  pupper  puppo  score  \n",
       "1757      0        0       0      0    1.0  \n",
       "1201      0        0       1      0    1.3  \n",
       "668       0        0       0      0    1.1  "
      ]
     },
     "execution_count": 28,
     "metadata": {},
     "output_type": "execute_result"
    }
   ],
   "source": [
    "df_enhan_clean.sample(3)"
   ]
  },
  {
   "cell_type": "code",
   "execution_count": 29,
   "metadata": {},
   "outputs": [],
   "source": [
    "df_enhan_clean.to_csv('df_enhan_clean.csv',index=False,header=True)"
   ]
  },
  {
   "cell_type": "markdown",
   "metadata": {},
   "source": [
    "## 备份和清洗数据\n",
    "### df_tweet_json\n",
    "#### 质量问题\n",
    "0.删除转发的tweet\n",
    "1.日期（格式不清楚这样方不方便排序，需要改成日期类型）  \n",
    "2.favorite_count  改成int   \n",
    "3.retweet_count  改成int      \n",
    "4.评分的分子分母  改成int    \n",
    "5.填充name的空值为None    \n",
    "6.将提取到的错误狗狗name，替换成None    \n",
    "7.需要从full_text中取出评分 用正则提取 （评分）     \n",
    "8.需要从full_text中提取狗狗名字    \n",
    "9.需要从full_text中提取狗狗 \"地位\" (即 doggo、floofer、pupper 和 puppo)。  \n",
    "\n",
    " #### 清洁度问题 \n",
    "A.需要将评分拆分成两列，一列是分子，一列分母    \n",
    "B.计算分数比值，删除分子分母字段  "
   ]
  },
  {
   "cell_type": "code",
   "execution_count": 30,
   "metadata": {},
   "outputs": [],
   "source": [
    "#df.to_csv('df_raw.csv',index=False,header=True)\n",
    "df_clean = df "
   ]
  },
  {
   "cell_type": "code",
   "execution_count": 31,
   "metadata": {},
   "outputs": [
    {
     "data": {
      "text/plain": [
       "2352"
      ]
     },
     "execution_count": 31,
     "metadata": {},
     "output_type": "execute_result"
    }
   ],
   "source": [
    "len(df_clean)"
   ]
  },
  {
   "cell_type": "code",
   "execution_count": 32,
   "metadata": {},
   "outputs": [
    {
     "name": "stdout",
     "output_type": "stream",
     "text": [
      "<class 'pandas.core.frame.DataFrame'>\n",
      "RangeIndex: 2352 entries, 0 to 2351\n",
      "Data columns (total 7 columns):\n",
      "created_at          2352 non-null object\n",
      "expanded_url        2073 non-null object\n",
      "favorite_count      2352 non-null object\n",
      "full_text           2352 non-null object\n",
      "id                  2352 non-null object\n",
      "retweet_count       2352 non-null object\n",
      "retweeted_status    177 non-null object\n",
      "dtypes: object(7)\n",
      "memory usage: 128.7+ KB\n"
     ]
    }
   ],
   "source": [
    "df_clean.info()"
   ]
  },
  {
   "cell_type": "code",
   "execution_count": 33,
   "metadata": {},
   "outputs": [],
   "source": [
    "#0.删除转发的tweet\n",
    "df_clean = df_clean[df_clean.retweeted_status.isnull()] "
   ]
  },
  {
   "cell_type": "code",
   "execution_count": 34,
   "metadata": {},
   "outputs": [
    {
     "name": "stderr",
     "output_type": "stream",
     "text": [
      "d:\\anaconda\\lib\\site-packages\\ipykernel_launcher.py:13: SettingWithCopyWarning: \n",
      "A value is trying to be set on a copy of a slice from a DataFrame.\n",
      "Try using .loc[row_indexer,col_indexer] = value instead\n",
      "\n",
      "See the caveats in the documentation: http://pandas.pydata.org/pandas-docs/stable/indexing.html#indexing-view-versus-copy\n",
      "  del sys.path[0]\n",
      "d:\\anaconda\\lib\\site-packages\\ipykernel_launcher.py:14: SettingWithCopyWarning: \n",
      "A value is trying to be set on a copy of a slice from a DataFrame.\n",
      "Try using .loc[row_indexer,col_indexer] = value instead\n",
      "\n",
      "See the caveats in the documentation: http://pandas.pydata.org/pandas-docs/stable/indexing.html#indexing-view-versus-copy\n",
      "  \n",
      "d:\\anaconda\\lib\\site-packages\\pandas\\core\\generic.py:5984: SettingWithCopyWarning: \n",
      "A value is trying to be set on a copy of a slice from a DataFrame\n",
      "\n",
      "See the caveats in the documentation: http://pandas.pydata.org/pandas-docs/stable/indexing.html#indexing-view-versus-copy\n",
      "  self._update_inplace(new_data)\n",
      "d:\\anaconda\\lib\\site-packages\\IPython\\core\\interactiveshell.py:2910: SettingWithCopyWarning: \n",
      "A value is trying to be set on a copy of a slice from a DataFrame\n",
      "\n",
      "See the caveats in the documentation: http://pandas.pydata.org/pandas-docs/stable/indexing.html#indexing-view-versus-copy\n",
      "  exec(code_obj, self.user_global_ns, self.user_ns)\n"
     ]
    }
   ],
   "source": [
    "#提取评分和名字\n",
    "#基本思想：先挑出来，再筛选，多做几步暂时没关系。\n",
    "# df_clean['score'] = df_clean['full_text'].str.extract('(\\d+\\.\\d+\\/\\d+|\\d+\\/\\d+)',expand=False)\n",
    "\n",
    "#7.需要从full_text中取出评分 用正则提取 （评分）     \n",
    "#8.需要从full_text中提取狗狗名字   \n",
    "score_li=[]\n",
    "for x in df_clean['full_text'].str.findall('(\\d+\\.\\d+\\/\\d+|\\d+\\/\\d+)'):\n",
    "    try:\n",
    "        score_li.append(x[1])\n",
    "    except:\n",
    "        score_li.append(x[0])\n",
    "df_clean['score']=score_li\n",
    "df_clean['name']  = df_clean['full_text'].str.extract('(Meet\\s\\w+|Say\\shello\\sto\\s\\w+|named\\s\\w+)', expand=False).str.split(' ').str[-1]\n",
    "df_clean['name'][df_clean['name'].isnull()]=(df_clean['full_text'][df_clean['name'].isnull()]).str.extract('(This\\sis\\s\\w+)', expand=False).str.split(' ').str[-1]"
   ]
  },
  {
   "cell_type": "code",
   "execution_count": 35,
   "metadata": {},
   "outputs": [
    {
     "data": {
      "text/plain": [
       "['such',\n",
       " 'quite',\n",
       " 'not',\n",
       " 'one',\n",
       " 'incredibly',\n",
       " 'a',\n",
       " 'very',\n",
       " 'my',\n",
       " 'his',\n",
       " 'an',\n",
       " 'actually',\n",
       " 'just',\n",
       " 'getting',\n",
       " 'mad',\n",
       " 'this',\n",
       " 'unacceptable',\n",
       " 'all',\n",
       " 'old',\n",
       " 'infuriating',\n",
       " 'the',\n",
       " 'by',\n",
       " 'officially',\n",
       " 'life',\n",
       " 'light',\n",
       " 'space']"
      ]
     },
     "execution_count": 35,
     "metadata": {},
     "output_type": "execute_result"
    }
   ],
   "source": [
    "#test name\n",
    "df_name_temp = pd.Series(df_clean['name'].unique())\n",
    "df_name_temp[df_name_temp.str[0] >\"Z\"].tolist()"
   ]
  },
  {
   "cell_type": "code",
   "execution_count": 36,
   "metadata": {},
   "outputs": [
    {
     "name": "stderr",
     "output_type": "stream",
     "text": [
      "d:\\anaconda\\lib\\site-packages\\pandas\\core\\generic.py:5984: SettingWithCopyWarning: \n",
      "A value is trying to be set on a copy of a slice from a DataFrame\n",
      "\n",
      "See the caveats in the documentation: http://pandas.pydata.org/pandas-docs/stable/indexing.html#indexing-view-versus-copy\n",
      "  self._update_inplace(new_data)\n",
      "d:\\anaconda\\lib\\site-packages\\IPython\\core\\interactiveshell.py:2910: SettingWithCopyWarning: \n",
      "A value is trying to be set on a copy of a slice from a DataFrame\n",
      "\n",
      "See the caveats in the documentation: http://pandas.pydata.org/pandas-docs/stable/indexing.html#indexing-view-versus-copy\n",
      "  exec(code_obj, self.user_global_ns, self.user_ns)\n"
     ]
    }
   ],
   "source": [
    "#6.将提取到的错误狗狗name，替换成None  \n",
    "bad_words=['such',\n",
    " 'quite',\n",
    " 'not',\n",
    " 'one',\n",
    " 'incredibly',\n",
    " 'mad',\n",
    " 'an',\n",
    " 'very',\n",
    " 'a',\n",
    " 'just',\n",
    " 'my',\n",
    " 'his',\n",
    " 'actually',\n",
    " 'getting',\n",
    " 'this',\n",
    " 'unacceptable',\n",
    " 'all',\n",
    " 'old',\n",
    " 'infuriating',\n",
    " 'the',\n",
    " 'by',\n",
    " 'officially',\n",
    " 'life',\n",
    " 'light',\n",
    " 'space']\n",
    "df_clean['name'][df_clean['name'].isin(bad_words)] = None \n",
    "df_clean['name'][df_clean['name'].isnull()] = None "
   ]
  },
  {
   "cell_type": "code",
   "execution_count": 37,
   "metadata": {},
   "outputs": [
    {
     "data": {
      "text/plain": [
       "1065        None\n",
       "1200        None\n",
       "1072       Benji\n",
       "116     Clifford\n",
       "2176    Terrance\n",
       "1264       Cecil\n",
       "1080        None\n",
       "1296     Jiminus\n",
       "1257        Lacy\n",
       "1898        None\n",
       "780      Maximus\n",
       "2305     Jockson\n",
       "153       Hobbes\n",
       "510         None\n",
       "760       Sophie\n",
       "1478       Oscar\n",
       "1619       Perry\n",
       "1336        None\n",
       "1819        None\n",
       "1465        Lola\n",
       "Name: name, dtype: object"
      ]
     },
     "execution_count": 37,
     "metadata": {},
     "output_type": "execute_result"
    }
   ],
   "source": [
    "#test name\n",
    "df_clean['name'].sample(20)"
   ]
  },
  {
   "cell_type": "code",
   "execution_count": 38,
   "metadata": {},
   "outputs": [
    {
     "data": {
      "text/plain": [
       "Lucy       11\n",
       "Charlie    11\n",
       "Oliver     10\n",
       "Cooper     10\n",
       "Tucker      9\n",
       "Penny       9\n",
       "Lola        8\n",
       "Winston     8\n",
       "Sadie       8\n",
       "Daisy       7\n",
       "Name: name, dtype: int64"
      ]
     },
     "execution_count": 38,
     "metadata": {},
     "output_type": "execute_result"
    }
   ],
   "source": [
    "#test name\n",
    "df_clean['name'].value_counts().head(10)"
   ]
  },
  {
   "cell_type": "code",
   "execution_count": 39,
   "metadata": {},
   "outputs": [
    {
     "name": "stderr",
     "output_type": "stream",
     "text": [
      "d:\\anaconda\\lib\\site-packages\\ipykernel_launcher.py:14: SettingWithCopyWarning: \n",
      "A value is trying to be set on a copy of a slice from a DataFrame.\n",
      "Try using .loc[row_indexer,col_indexer] = value instead\n",
      "\n",
      "See the caveats in the documentation: http://pandas.pydata.org/pandas-docs/stable/indexing.html#indexing-view-versus-copy\n",
      "  \n",
      "d:\\anaconda\\lib\\site-packages\\pandas\\core\\indexing.py:194: SettingWithCopyWarning: \n",
      "A value is trying to be set on a copy of a slice from a DataFrame\n",
      "\n",
      "See the caveats in the documentation: http://pandas.pydata.org/pandas-docs/stable/indexing.html#indexing-view-versus-copy\n",
      "  self._setitem_with_indexer(indexer, value)\n",
      "d:\\anaconda\\lib\\site-packages\\ipykernel_launcher.py:15: SettingWithCopyWarning: \n",
      "A value is trying to be set on a copy of a slice from a DataFrame\n",
      "\n",
      "See the caveats in the documentation: http://pandas.pydata.org/pandas-docs/stable/indexing.html#indexing-view-versus-copy\n",
      "  from ipykernel import kernelapp as app\n",
      "d:\\anaconda\\lib\\site-packages\\ipykernel_launcher.py:16: SettingWithCopyWarning: \n",
      "A value is trying to be set on a copy of a slice from a DataFrame.\n",
      "Try using .loc[row_indexer,col_indexer] = value instead\n",
      "\n",
      "See the caveats in the documentation: http://pandas.pydata.org/pandas-docs/stable/indexing.html#indexing-view-versus-copy\n",
      "  app.launch_new_instance()\n"
     ]
    }
   ],
   "source": [
    "# If 没法和pandas一起用\n",
    "#df_clean['doggo'] = 1 if  ~df_clean['full_text'].str.find(sub='doggo').isin([-1]) else 0\n",
    "#df_clean['floofer'] = 1 if \"floofer\" in df_clean['full_text'] else 0\n",
    "\n",
    "###警告\n",
    "# df_clean[status].loc[df_clean[status]==True]=1\n",
    "# A value is trying to be set on a copy of a slice from a DataFrame\n",
    "\n",
    "#需要逻辑判断部分加了.loc之后，就少了几个提示，还剩一个不知哪里的。\n",
    "\n",
    "###9.需要从full_text中提取狗狗 \"地位\" (即 doggo、floofer、pupper 和 puppo)。  \n",
    "staus_list =['doggo','floof','pupper','puppo']\n",
    "for status in staus_list:\n",
    "    df_clean[status]=~df_clean['full_text'].str.find(sub=status).isin([-1]) \n",
    "    df_clean[status].loc[df_clean[status]==True]=1\n",
    "    df_clean[status]=df_clean[status].astype(int)"
   ]
  },
  {
   "cell_type": "code",
   "execution_count": 40,
   "metadata": {
    "scrolled": true
   },
   "outputs": [
    {
     "data": {
      "text/html": [
       "<div>\n",
       "<style scoped>\n",
       "    .dataframe tbody tr th:only-of-type {\n",
       "        vertical-align: middle;\n",
       "    }\n",
       "\n",
       "    .dataframe tbody tr th {\n",
       "        vertical-align: top;\n",
       "    }\n",
       "\n",
       "    .dataframe thead th {\n",
       "        text-align: right;\n",
       "    }\n",
       "</style>\n",
       "<table border=\"1\" class=\"dataframe\">\n",
       "  <thead>\n",
       "    <tr style=\"text-align: right;\">\n",
       "      <th></th>\n",
       "      <th>created_at</th>\n",
       "      <th>expanded_url</th>\n",
       "      <th>favorite_count</th>\n",
       "      <th>full_text</th>\n",
       "      <th>id</th>\n",
       "      <th>retweet_count</th>\n",
       "      <th>retweeted_status</th>\n",
       "      <th>score</th>\n",
       "      <th>name</th>\n",
       "      <th>doggo</th>\n",
       "      <th>floof</th>\n",
       "      <th>pupper</th>\n",
       "      <th>puppo</th>\n",
       "    </tr>\n",
       "  </thead>\n",
       "  <tbody>\n",
       "    <tr>\n",
       "      <th>2227</th>\n",
       "      <td>Sun Nov 22 00:34:50 +0000 2015</td>\n",
       "      <td>https://twitter.com/dog_rates/status/668226093875376128/photo/1</td>\n",
       "      <td>322</td>\n",
       "      <td>Sneaky dog here. Tuba player has no clue. 10/10 super sneaky https://t.co/jWVwSppaa2</td>\n",
       "      <td>668226093875376128</td>\n",
       "      <td>115</td>\n",
       "      <td>NaN</td>\n",
       "      <td>10/10</td>\n",
       "      <td>None</td>\n",
       "      <td>0</td>\n",
       "      <td>0</td>\n",
       "      <td>0</td>\n",
       "      <td>0</td>\n",
       "    </tr>\n",
       "    <tr>\n",
       "      <th>2316</th>\n",
       "      <td>Tue Nov 17 02:06:42 +0000 2015</td>\n",
       "      <td>https://twitter.com/dog_rates/status/666437273139982337/photo/1</td>\n",
       "      <td>131</td>\n",
       "      <td>Here we see a lone northeastern Cumberbatch. Half ladybug. Only builds with bricks. Very confident with body. 7/10 https://t.co/7LtjBS0GPK</td>\n",
       "      <td>666437273139982337</td>\n",
       "      <td>52</td>\n",
       "      <td>NaN</td>\n",
       "      <td>7/10</td>\n",
       "      <td>None</td>\n",
       "      <td>0</td>\n",
       "      <td>0</td>\n",
       "      <td>0</td>\n",
       "      <td>0</td>\n",
       "    </tr>\n",
       "    <tr>\n",
       "      <th>348</th>\n",
       "      <td>Tue Feb 14 02:02:51 +0000 2017</td>\n",
       "      <td>https://twitter.com/dog_rates/status/831322785565769729/photo/1</td>\n",
       "      <td>10011</td>\n",
       "      <td>This is Pete. He has no eyes. Needs a guide doggo. Also appears to be considerably fluffy af. 12/10 would hug softly https://t.co/Xc0gyovCtK</td>\n",
       "      <td>831322785565769729</td>\n",
       "      <td>1737</td>\n",
       "      <td>NaN</td>\n",
       "      <td>12/10</td>\n",
       "      <td>Pete</td>\n",
       "      <td>1</td>\n",
       "      <td>0</td>\n",
       "      <td>0</td>\n",
       "      <td>0</td>\n",
       "    </tr>\n",
       "    <tr>\n",
       "      <th>2104</th>\n",
       "      <td>Sat Nov 28 04:03:11 +0000 2015</td>\n",
       "      <td>https://twitter.com/dog_rates/status/670452855871037440/photo/1</td>\n",
       "      <td>577</td>\n",
       "      <td>This dog can't see its haters. 11/10 https://t.co/35BcGFdEAK</td>\n",
       "      <td>670452855871037440</td>\n",
       "      <td>223</td>\n",
       "      <td>NaN</td>\n",
       "      <td>11/10</td>\n",
       "      <td>None</td>\n",
       "      <td>0</td>\n",
       "      <td>0</td>\n",
       "      <td>0</td>\n",
       "      <td>0</td>\n",
       "    </tr>\n",
       "    <tr>\n",
       "      <th>1581</th>\n",
       "      <td>Tue Jan 12 16:25:26 +0000 2016</td>\n",
       "      <td>https://twitter.com/dog_rates/status/686947101016735744/photo/1</td>\n",
       "      <td>9390</td>\n",
       "      <td>This is Jackson. He was specifically told not to sleep in the fridge. Damn it Jackson. 11/10 would squeeze softly https://t.co/lJs10ZJsgj</td>\n",
       "      <td>686947101016735744</td>\n",
       "      <td>3570</td>\n",
       "      <td>NaN</td>\n",
       "      <td>11/10</td>\n",
       "      <td>Jackson</td>\n",
       "      <td>0</td>\n",
       "      <td>0</td>\n",
       "      <td>0</td>\n",
       "      <td>0</td>\n",
       "    </tr>\n",
       "    <tr>\n",
       "      <th>1735</th>\n",
       "      <td>Wed Dec 23 03:58:25 +0000 2015</td>\n",
       "      <td>https://twitter.com/dog_rates/status/679511351870550016/photo/1</td>\n",
       "      <td>3694</td>\n",
       "      <td>Say hello to William. He makes fun of others because he's terrified of his own deep-seated insecurities. 7/10 https://t.co/bwuV6FlRxr</td>\n",
       "      <td>679511351870550016</td>\n",
       "      <td>1454</td>\n",
       "      <td>NaN</td>\n",
       "      <td>7/10</td>\n",
       "      <td>William</td>\n",
       "      <td>0</td>\n",
       "      <td>0</td>\n",
       "      <td>0</td>\n",
       "      <td>0</td>\n",
       "    </tr>\n",
       "    <tr>\n",
       "      <th>153</th>\n",
       "      <td>Mon May 08 00:54:59 +0000 2017</td>\n",
       "      <td>https://twitter.com/dog_rates/status/861383897657036800/photo/1</td>\n",
       "      <td>37599</td>\n",
       "      <td>This is Hobbes. He's never seen bubbles before. 13/10 deep breaths buddy https://t.co/QFRlbZw4Z1</td>\n",
       "      <td>861383897657036800</td>\n",
       "      <td>11456</td>\n",
       "      <td>NaN</td>\n",
       "      <td>13/10</td>\n",
       "      <td>Hobbes</td>\n",
       "      <td>0</td>\n",
       "      <td>0</td>\n",
       "      <td>0</td>\n",
       "      <td>0</td>\n",
       "    </tr>\n",
       "    <tr>\n",
       "      <th>1166</th>\n",
       "      <td>Fri Apr 15 00:46:48 +0000 2016</td>\n",
       "      <td>https://twitter.com/dog_rates/status/720775346191278080/photo/1</td>\n",
       "      <td>2689</td>\n",
       "      <td>This is Berkeley. He's in a predicament. 10/10 someone help him https://t.co/XSEXdQupej</td>\n",
       "      <td>720775346191278080</td>\n",
       "      <td>754</td>\n",
       "      <td>NaN</td>\n",
       "      <td>10/10</td>\n",
       "      <td>Berkeley</td>\n",
       "      <td>0</td>\n",
       "      <td>0</td>\n",
       "      <td>0</td>\n",
       "      <td>0</td>\n",
       "    </tr>\n",
       "    <tr>\n",
       "      <th>1018</th>\n",
       "      <td>Sat Jun 25 03:17:46 +0000 2016</td>\n",
       "      <td>None</td>\n",
       "      <td>5497</td>\n",
       "      <td>Here's a golden floofer helping with the groceries. Bed got in way. Still 11/10 helpful af (vid by @categoen) https://t.co/6ZRoZUWFmd</td>\n",
       "      <td>746542875601690625</td>\n",
       "      <td>2095</td>\n",
       "      <td>NaN</td>\n",
       "      <td>11/10</td>\n",
       "      <td>None</td>\n",
       "      <td>0</td>\n",
       "      <td>1</td>\n",
       "      <td>0</td>\n",
       "      <td>0</td>\n",
       "    </tr>\n",
       "    <tr>\n",
       "      <th>1092</th>\n",
       "      <td>Sat May 28 01:18:00 +0000 2016</td>\n",
       "      <td>https://twitter.com/dog_rates/status/736365877722001409/photo/1</td>\n",
       "      <td>4353</td>\n",
       "      <td>This is Rory. He's extremely impatient. 11/10 settle down pupper https://t.co/e3tfXJLi40</td>\n",
       "      <td>736365877722001409</td>\n",
       "      <td>1401</td>\n",
       "      <td>NaN</td>\n",
       "      <td>11/10</td>\n",
       "      <td>Rory</td>\n",
       "      <td>0</td>\n",
       "      <td>0</td>\n",
       "      <td>1</td>\n",
       "      <td>0</td>\n",
       "    </tr>\n",
       "  </tbody>\n",
       "</table>\n",
       "</div>"
      ],
      "text/plain": [
       "                          created_at  \\\n",
       "2227  Sun Nov 22 00:34:50 +0000 2015   \n",
       "2316  Tue Nov 17 02:06:42 +0000 2015   \n",
       "348   Tue Feb 14 02:02:51 +0000 2017   \n",
       "2104  Sat Nov 28 04:03:11 +0000 2015   \n",
       "1581  Tue Jan 12 16:25:26 +0000 2016   \n",
       "1735  Wed Dec 23 03:58:25 +0000 2015   \n",
       "153   Mon May 08 00:54:59 +0000 2017   \n",
       "1166  Fri Apr 15 00:46:48 +0000 2016   \n",
       "1018  Sat Jun 25 03:17:46 +0000 2016   \n",
       "1092  Sat May 28 01:18:00 +0000 2016   \n",
       "\n",
       "                                                         expanded_url  \\\n",
       "2227  https://twitter.com/dog_rates/status/668226093875376128/photo/1   \n",
       "2316  https://twitter.com/dog_rates/status/666437273139982337/photo/1   \n",
       "348   https://twitter.com/dog_rates/status/831322785565769729/photo/1   \n",
       "2104  https://twitter.com/dog_rates/status/670452855871037440/photo/1   \n",
       "1581  https://twitter.com/dog_rates/status/686947101016735744/photo/1   \n",
       "1735  https://twitter.com/dog_rates/status/679511351870550016/photo/1   \n",
       "153   https://twitter.com/dog_rates/status/861383897657036800/photo/1   \n",
       "1166  https://twitter.com/dog_rates/status/720775346191278080/photo/1   \n",
       "1018                                                             None   \n",
       "1092  https://twitter.com/dog_rates/status/736365877722001409/photo/1   \n",
       "\n",
       "     favorite_count  \\\n",
       "2227            322   \n",
       "2316            131   \n",
       "348           10011   \n",
       "2104            577   \n",
       "1581           9390   \n",
       "1735           3694   \n",
       "153           37599   \n",
       "1166           2689   \n",
       "1018           5497   \n",
       "1092           4353   \n",
       "\n",
       "                                                                                                                                         full_text  \\\n",
       "2227                                                          Sneaky dog here. Tuba player has no clue. 10/10 super sneaky https://t.co/jWVwSppaa2   \n",
       "2316    Here we see a lone northeastern Cumberbatch. Half ladybug. Only builds with bricks. Very confident with body. 7/10 https://t.co/7LtjBS0GPK   \n",
       "348   This is Pete. He has no eyes. Needs a guide doggo. Also appears to be considerably fluffy af. 12/10 would hug softly https://t.co/Xc0gyovCtK   \n",
       "2104                                                                                  This dog can't see its haters. 11/10 https://t.co/35BcGFdEAK   \n",
       "1581     This is Jackson. He was specifically told not to sleep in the fridge. Damn it Jackson. 11/10 would squeeze softly https://t.co/lJs10ZJsgj   \n",
       "1735         Say hello to William. He makes fun of others because he's terrified of his own deep-seated insecurities. 7/10 https://t.co/bwuV6FlRxr   \n",
       "153                                               This is Hobbes. He's never seen bubbles before. 13/10 deep breaths buddy https://t.co/QFRlbZw4Z1   \n",
       "1166                                                       This is Berkeley. He's in a predicament. 10/10 someone help him https://t.co/XSEXdQupej   \n",
       "1018         Here's a golden floofer helping with the groceries. Bed got in way. Still 11/10 helpful af (vid by @categoen) https://t.co/6ZRoZUWFmd   \n",
       "1092                                                      This is Rory. He's extremely impatient. 11/10 settle down pupper https://t.co/e3tfXJLi40   \n",
       "\n",
       "                      id retweet_count retweeted_status  score      name  \\\n",
       "2227  668226093875376128           115              NaN  10/10      None   \n",
       "2316  666437273139982337            52              NaN   7/10      None   \n",
       "348   831322785565769729          1737              NaN  12/10      Pete   \n",
       "2104  670452855871037440           223              NaN  11/10      None   \n",
       "1581  686947101016735744          3570              NaN  11/10   Jackson   \n",
       "1735  679511351870550016          1454              NaN   7/10   William   \n",
       "153   861383897657036800         11456              NaN  13/10    Hobbes   \n",
       "1166  720775346191278080           754              NaN  10/10  Berkeley   \n",
       "1018  746542875601690625          2095              NaN  11/10      None   \n",
       "1092  736365877722001409          1401              NaN  11/10      Rory   \n",
       "\n",
       "      doggo  floof  pupper  puppo  \n",
       "2227      0      0       0      0  \n",
       "2316      0      0       0      0  \n",
       "348       1      0       0      0  \n",
       "2104      0      0       0      0  \n",
       "1581      0      0       0      0  \n",
       "1735      0      0       0      0  \n",
       "153       0      0       0      0  \n",
       "1166      0      0       0      0  \n",
       "1018      0      1       0      0  \n",
       "1092      0      0       1      0  "
      ]
     },
     "execution_count": 40,
     "metadata": {},
     "output_type": "execute_result"
    }
   ],
   "source": [
    "df_clean.sample(10)"
   ]
  },
  {
   "cell_type": "code",
   "execution_count": 41,
   "metadata": {},
   "outputs": [
    {
     "name": "stderr",
     "output_type": "stream",
     "text": [
      "d:\\anaconda\\lib\\site-packages\\ipykernel_launcher.py:6: SettingWithCopyWarning: \n",
      "A value is trying to be set on a copy of a slice from a DataFrame.\n",
      "Try using .loc[row_indexer,col_indexer] = value instead\n",
      "\n",
      "See the caveats in the documentation: http://pandas.pydata.org/pandas-docs/stable/indexing.html#indexing-view-versus-copy\n",
      "  \n",
      "d:\\anaconda\\lib\\site-packages\\ipykernel_launcher.py:7: SettingWithCopyWarning: \n",
      "A value is trying to be set on a copy of a slice from a DataFrame.\n",
      "Try using .loc[row_indexer,col_indexer] = value instead\n",
      "\n",
      "See the caveats in the documentation: http://pandas.pydata.org/pandas-docs/stable/indexing.html#indexing-view-versus-copy\n",
      "  import sys\n"
     ]
    }
   ],
   "source": [
    "#4.评分的分子分母  改成int \n",
    "#A.需要将评分拆分成两列，一列是分子，一列分母    \n",
    "\n",
    "score_temp = df_clean['score'].str.split('/',expand=True)\n",
    "###B.计算分数比值\n",
    "df_clean['score']= score_temp[0].astype(float)/score_temp[1].astype(float)\n",
    "df_clean['score']=df_clean['score'].round(2)"
   ]
  },
  {
   "cell_type": "code",
   "execution_count": 42,
   "metadata": {},
   "outputs": [
    {
     "data": {
      "text/plain": [
       "1.20      503\n",
       "1.00      436\n",
       "1.10      432\n",
       "1.30      311\n",
       "0.90      156\n",
       "0.80      101\n",
       "0.70       56\n",
       "1.40       44\n",
       "0.60       33\n",
       "0.50       33\n",
       "0.30       19\n",
       "0.40       16\n",
       "0.20       11\n",
       "0.10        8\n",
       "1.13        2\n",
       "0.00        2\n",
       "42.00       2\n",
       "1.35        1\n",
       "0.98        1\n",
       "177.60      1\n",
       "66.60       1\n",
       "0.95        1\n",
       "0.73        1\n",
       "1.25        1\n",
       "18.20       1\n",
       "1.50        1\n",
       "3.43        1\n",
       "Name: score, dtype: int64"
      ]
     },
     "execution_count": 42,
     "metadata": {},
     "output_type": "execute_result"
    }
   ],
   "source": [
    "df_clean['score'].value_counts()"
   ]
  },
  {
   "cell_type": "code",
   "execution_count": 43,
   "metadata": {},
   "outputs": [
    {
     "data": {
      "text/plain": [
       "False    2175\n",
       "Name: score, dtype: int64"
      ]
     },
     "execution_count": 43,
     "metadata": {},
     "output_type": "execute_result"
    }
   ],
   "source": [
    "df_clean['score'].isnull().value_counts()"
   ]
  },
  {
   "cell_type": "code",
   "execution_count": 44,
   "metadata": {},
   "outputs": [
    {
     "name": "stdout",
     "output_type": "stream",
     "text": [
      "<class 'pandas.core.frame.DataFrame'>\n",
      "Int64Index: 2175 entries, 0 to 2351\n",
      "Data columns (total 13 columns):\n",
      "created_at          2175 non-null object\n",
      "expanded_url        1994 non-null object\n",
      "favorite_count      2175 non-null object\n",
      "full_text           2175 non-null object\n",
      "id                  2175 non-null object\n",
      "retweet_count       2175 non-null object\n",
      "retweeted_status    0 non-null object\n",
      "score               2175 non-null float64\n",
      "name                1411 non-null object\n",
      "doggo               2175 non-null int32\n",
      "floof               2175 non-null int32\n",
      "pupper              2175 non-null int32\n",
      "puppo               2175 non-null int32\n",
      "dtypes: float64(1), int32(4), object(8)\n",
      "memory usage: 283.9+ KB\n"
     ]
    }
   ],
   "source": [
    "df_clean.info()"
   ]
  },
  {
   "cell_type": "code",
   "execution_count": 45,
   "metadata": {},
   "outputs": [
    {
     "data": {
      "text/html": [
       "<div>\n",
       "<style scoped>\n",
       "    .dataframe tbody tr th:only-of-type {\n",
       "        vertical-align: middle;\n",
       "    }\n",
       "\n",
       "    .dataframe tbody tr th {\n",
       "        vertical-align: top;\n",
       "    }\n",
       "\n",
       "    .dataframe thead th {\n",
       "        text-align: right;\n",
       "    }\n",
       "</style>\n",
       "<table border=\"1\" class=\"dataframe\">\n",
       "  <thead>\n",
       "    <tr style=\"text-align: right;\">\n",
       "      <th></th>\n",
       "      <th>created_at</th>\n",
       "      <th>expanded_url</th>\n",
       "      <th>favorite_count</th>\n",
       "      <th>full_text</th>\n",
       "      <th>id</th>\n",
       "      <th>retweet_count</th>\n",
       "      <th>retweeted_status</th>\n",
       "      <th>score</th>\n",
       "      <th>name</th>\n",
       "      <th>doggo</th>\n",
       "      <th>floof</th>\n",
       "      <th>pupper</th>\n",
       "      <th>puppo</th>\n",
       "    </tr>\n",
       "  </thead>\n",
       "  <tbody>\n",
       "    <tr>\n",
       "      <th>1430</th>\n",
       "      <td>Wed Feb 10 04:06:43 +0000 2016</td>\n",
       "      <td>https://twitter.com/dog_rates/status/697270446429966336/photo/1</td>\n",
       "      <td>5102</td>\n",
       "      <td>This is Bentley. He got stuck on his 3rd homework problem. Picturing the best case scenario if he drops out. 10/10 https://t.co/7rS33sCKMS</td>\n",
       "      <td>697270446429966336</td>\n",
       "      <td>2080</td>\n",
       "      <td>NaN</td>\n",
       "      <td>1.0</td>\n",
       "      <td>Bentley</td>\n",
       "      <td>0</td>\n",
       "      <td>0</td>\n",
       "      <td>0</td>\n",
       "      <td>0</td>\n",
       "    </tr>\n",
       "    <tr>\n",
       "      <th>1475</th>\n",
       "      <td>Sat Jan 30 23:51:19 +0000 2016</td>\n",
       "      <td>None</td>\n",
       "      <td>1800</td>\n",
       "      <td>Personally I'd give him an 11/10. Not sure why you think you're qualified to rate such a stellar pup.\\n@CommonWhiteGirI</td>\n",
       "      <td>693582294167244802</td>\n",
       "      <td>291</td>\n",
       "      <td>NaN</td>\n",
       "      <td>1.1</td>\n",
       "      <td>None</td>\n",
       "      <td>0</td>\n",
       "      <td>0</td>\n",
       "      <td>0</td>\n",
       "      <td>0</td>\n",
       "    </tr>\n",
       "    <tr>\n",
       "      <th>1994</th>\n",
       "      <td>Thu Dec 03 22:09:14 +0000 2015</td>\n",
       "      <td>https://twitter.com/dog_rates/status/672538107540070400/photo/1</td>\n",
       "      <td>1085</td>\n",
       "      <td>Meet Darby. He's a Fiscal Tutankhamen Waxbeard. Really likes steak. 7/10 https://t.co/rSndxTL0Ap</td>\n",
       "      <td>672538107540070400</td>\n",
       "      <td>402</td>\n",
       "      <td>NaN</td>\n",
       "      <td>0.7</td>\n",
       "      <td>Darby</td>\n",
       "      <td>0</td>\n",
       "      <td>0</td>\n",
       "      <td>0</td>\n",
       "      <td>0</td>\n",
       "    </tr>\n",
       "  </tbody>\n",
       "</table>\n",
       "</div>"
      ],
      "text/plain": [
       "                          created_at  \\\n",
       "1430  Wed Feb 10 04:06:43 +0000 2016   \n",
       "1475  Sat Jan 30 23:51:19 +0000 2016   \n",
       "1994  Thu Dec 03 22:09:14 +0000 2015   \n",
       "\n",
       "                                                         expanded_url  \\\n",
       "1430  https://twitter.com/dog_rates/status/697270446429966336/photo/1   \n",
       "1475                                                             None   \n",
       "1994  https://twitter.com/dog_rates/status/672538107540070400/photo/1   \n",
       "\n",
       "     favorite_count  \\\n",
       "1430           5102   \n",
       "1475           1800   \n",
       "1994           1085   \n",
       "\n",
       "                                                                                                                                       full_text  \\\n",
       "1430  This is Bentley. He got stuck on his 3rd homework problem. Picturing the best case scenario if he drops out. 10/10 https://t.co/7rS33sCKMS   \n",
       "1475                     Personally I'd give him an 11/10. Not sure why you think you're qualified to rate such a stellar pup.\\n@CommonWhiteGirI   \n",
       "1994                                            Meet Darby. He's a Fiscal Tutankhamen Waxbeard. Really likes steak. 7/10 https://t.co/rSndxTL0Ap   \n",
       "\n",
       "                      id retweet_count retweeted_status  score     name  \\\n",
       "1430  697270446429966336          2080              NaN    1.0  Bentley   \n",
       "1475  693582294167244802           291              NaN    1.1     None   \n",
       "1994  672538107540070400           402              NaN    0.7    Darby   \n",
       "\n",
       "      doggo  floof  pupper  puppo  \n",
       "1430      0      0       0      0  \n",
       "1475      0      0       0      0  \n",
       "1994      0      0       0      0  "
      ]
     },
     "execution_count": 45,
     "metadata": {},
     "output_type": "execute_result"
    }
   ],
   "source": [
    "df_clean.sample(3)"
   ]
  },
  {
   "cell_type": "code",
   "execution_count": 46,
   "metadata": {},
   "outputs": [
    {
     "name": "stderr",
     "output_type": "stream",
     "text": [
      "d:\\anaconda\\lib\\site-packages\\pandas\\core\\generic.py:3643: SettingWithCopyWarning: \n",
      "A value is trying to be set on a copy of a slice from a DataFrame.\n",
      "Try using .loc[row_indexer,col_indexer] = value instead\n",
      "\n",
      "See the caveats in the documentation: http://pandas.pydata.org/pandas-docs/stable/indexing.html#indexing-view-versus-copy\n",
      "  self[name] = value\n"
     ]
    }
   ],
   "source": [
    "#1.日期（格式不清楚这样方不方便排序，需要改成日期类型）  \n",
    "#2.favorite_count  改成int   \n",
    "3#.retweet_count  改成int      \n",
    " \n",
    "df_clean.created_at=pd.to_datetime(df_clean.created_at)\n",
    "df_clean.favorite_count=df_clean.favorite_count.astype(\"int\")\n",
    "df_clean.retweet_count=df_clean.retweet_count.astype(\"int\")"
   ]
  },
  {
   "cell_type": "code",
   "execution_count": 47,
   "metadata": {},
   "outputs": [
    {
     "name": "stdout",
     "output_type": "stream",
     "text": [
      "<class 'pandas.core.frame.DataFrame'>\n",
      "Int64Index: 2175 entries, 0 to 2351\n",
      "Data columns (total 13 columns):\n",
      "created_at          2175 non-null datetime64[ns]\n",
      "expanded_url        1994 non-null object\n",
      "favorite_count      2175 non-null int32\n",
      "full_text           2175 non-null object\n",
      "id                  2175 non-null object\n",
      "retweet_count       2175 non-null int32\n",
      "retweeted_status    0 non-null object\n",
      "score               2175 non-null float64\n",
      "name                1411 non-null object\n",
      "doggo               2175 non-null int32\n",
      "floof               2175 non-null int32\n",
      "pupper              2175 non-null int32\n",
      "puppo               2175 non-null int32\n",
      "dtypes: datetime64[ns](1), float64(1), int32(6), object(5)\n",
      "memory usage: 266.9+ KB\n"
     ]
    }
   ],
   "source": [
    "df_clean.info()"
   ]
  },
  {
   "cell_type": "code",
   "execution_count": 48,
   "metadata": {},
   "outputs": [],
   "source": [
    "# del df_clean['full_text']\n",
    "##删掉 retweeted_status score  两种办法，drop可以保留原来的数\n",
    "df_clean = df_clean.drop(['retweeted_status'],axis=1)"
   ]
  },
  {
   "cell_type": "markdown",
   "metadata": {},
   "source": [
    "### 整合两部分数据"
   ]
  },
  {
   "cell_type": "code",
   "execution_count": 49,
   "metadata": {},
   "outputs": [
    {
     "name": "stderr",
     "output_type": "stream",
     "text": [
      "d:\\anaconda\\lib\\site-packages\\pandas\\core\\frame.py:3027: SettingWithCopyWarning: \n",
      "A value is trying to be set on a copy of a slice from a DataFrame\n",
      "\n",
      "See the caveats in the documentation: http://pandas.pydata.org/pandas-docs/stable/indexing.html#indexing-view-versus-copy\n",
      "  return super(DataFrame, self).rename(**kwargs)\n"
     ]
    }
   ],
   "source": [
    "df_enhan_clean.rename(columns={'tweet_id':'id', 'timestamp':'created_at', 'text':'full_text'}, inplace = True)"
   ]
  },
  {
   "cell_type": "code",
   "execution_count": 50,
   "metadata": {},
   "outputs": [
    {
     "name": "stderr",
     "output_type": "stream",
     "text": [
      "d:\\anaconda\\lib\\site-packages\\pandas\\core\\generic.py:3643: SettingWithCopyWarning: \n",
      "A value is trying to be set on a copy of a slice from a DataFrame.\n",
      "Try using .loc[row_indexer,col_indexer] = value instead\n",
      "\n",
      "See the caveats in the documentation: http://pandas.pydata.org/pandas-docs/stable/indexing.html#indexing-view-versus-copy\n",
      "  self[name] = value\n"
     ]
    }
   ],
   "source": [
    "#修改 时间和分数的数据类型\n",
    "df_enhan_clean.created_at=pd.to_datetime(df_enhan_clean.created_at)\n",
    "df_enhan_clean.score=df_enhan_clean.score.astype(\"float\")"
   ]
  },
  {
   "cell_type": "code",
   "execution_count": 51,
   "metadata": {},
   "outputs": [
    {
     "name": "stdout",
     "output_type": "stream",
     "text": [
      "<class 'pandas.core.frame.DataFrame'>\n",
      "Int64Index: 2175 entries, 0 to 2355\n",
      "Data columns (total 11 columns):\n",
      "id               2175 non-null int64\n",
      "created_at       2175 non-null datetime64[ns]\n",
      "source           2175 non-null object\n",
      "full_text        2175 non-null object\n",
      "expanded_urls    2117 non-null object\n",
      "name             2175 non-null object\n",
      "doggo            2175 non-null int32\n",
      "floofer          2175 non-null int32\n",
      "pupper           2175 non-null int32\n",
      "puppo            2175 non-null int32\n",
      "score            2175 non-null float64\n",
      "dtypes: datetime64[ns](1), float64(1), int32(4), int64(1), object(4)\n",
      "memory usage: 169.9+ KB\n"
     ]
    }
   ],
   "source": [
    "df_enhan_clean.info() "
   ]
  },
  {
   "cell_type": "code",
   "execution_count": 52,
   "metadata": {},
   "outputs": [
    {
     "name": "stdout",
     "output_type": "stream",
     "text": [
      "<class 'pandas.core.frame.DataFrame'>\n",
      "Int64Index: 2175 entries, 0 to 2351\n",
      "Data columns (total 12 columns):\n",
      "created_at        2175 non-null datetime64[ns]\n",
      "expanded_url      1994 non-null object\n",
      "favorite_count    2175 non-null int32\n",
      "full_text         2175 non-null object\n",
      "id                2175 non-null object\n",
      "retweet_count     2175 non-null int32\n",
      "score             2175 non-null float64\n",
      "name              1411 non-null object\n",
      "doggo             2175 non-null int32\n",
      "floof             2175 non-null int32\n",
      "pupper            2175 non-null int32\n",
      "puppo             2175 non-null int32\n",
      "dtypes: datetime64[ns](1), float64(1), int32(6), object(4)\n",
      "memory usage: 249.9+ KB\n"
     ]
    }
   ],
   "source": [
    "df_clean.info()"
   ]
  },
  {
   "cell_type": "code",
   "execution_count": 53,
   "metadata": {},
   "outputs": [
    {
     "name": "stdout",
     "output_type": "stream",
     "text": [
      "<class 'pandas.core.frame.DataFrame'>\n",
      "Int64Index: 2175 entries, 0 to 2174\n",
      "Data columns (total 22 columns):\n",
      "created_at_x      2175 non-null datetime64[ns]\n",
      "expanded_url      1994 non-null object\n",
      "favorite_count    2175 non-null int32\n",
      "full_text_x       2175 non-null object\n",
      "id                2175 non-null object\n",
      "retweet_count     2175 non-null int32\n",
      "score_x           2175 non-null float64\n",
      "name_x            1411 non-null object\n",
      "doggo_x           2175 non-null int32\n",
      "floof             2175 non-null int32\n",
      "pupper_x          2175 non-null int32\n",
      "puppo_x           2175 non-null int32\n",
      "created_at_y      2175 non-null datetime64[ns]\n",
      "source            2175 non-null object\n",
      "full_text_y       2175 non-null object\n",
      "expanded_urls     2117 non-null object\n",
      "name_y            2175 non-null object\n",
      "doggo_y           2175 non-null int32\n",
      "floofer           2175 non-null int32\n",
      "pupper_y          2175 non-null int32\n",
      "puppo_y           2175 non-null int32\n",
      "score_y           2175 non-null float64\n",
      "dtypes: datetime64[ns](2), float64(2), int32(10), object(8)\n",
      "memory usage: 305.9+ KB\n"
     ]
    }
   ],
   "source": [
    "# 合并数据\n",
    "df_merge = pd.merge(df_clean,df_enhan_clean,how='inner',on='id',left_index=False)\n",
    "df_merge=df_merge.drop_duplicates()\n",
    "#df_merge = df_merge.reindex(range(2352))\n",
    "df_merge.info()"
   ]
  },
  {
   "cell_type": "markdown",
   "metadata": {},
   "source": [
    "### 数据一样!!!!部分提取有些浪费，就当一次教训，下次一定在一开始就做数据重复性判断。\n",
    "### 用df_clean作可视化分析"
   ]
  },
  {
   "cell_type": "code",
   "execution_count": 54,
   "metadata": {},
   "outputs": [],
   "source": [
    "df_clean.to_csv('twitter_archive_master.csv',index=False,header=True)"
   ]
  },
  {
   "cell_type": "markdown",
   "metadata": {},
   "source": [
    "# Part2 可视化分析"
   ]
  },
  {
   "cell_type": "code",
   "execution_count": 55,
   "metadata": {},
   "outputs": [],
   "source": [
    "import pandas as pd\n",
    "import matplotlib.pyplot as plt\n",
    "from scipy import stats"
   ]
  },
  {
   "cell_type": "code",
   "execution_count": 56,
   "metadata": {},
   "outputs": [],
   "source": [
    "df_visul= pd.read_csv('twitter_archive_master.csv')"
   ]
  },
  {
   "cell_type": "code",
   "execution_count": 57,
   "metadata": {},
   "outputs": [
    {
     "name": "stdout",
     "output_type": "stream",
     "text": [
      "<class 'pandas.core.frame.DataFrame'>\n",
      "RangeIndex: 2175 entries, 0 to 2174\n",
      "Data columns (total 12 columns):\n",
      "created_at        2175 non-null object\n",
      "expanded_url      1994 non-null object\n",
      "favorite_count    2175 non-null int64\n",
      "full_text         2175 non-null object\n",
      "id                2175 non-null int64\n",
      "retweet_count     2175 non-null int64\n",
      "score             2175 non-null float64\n",
      "name              1411 non-null object\n",
      "doggo             2175 non-null int64\n",
      "floof             2175 non-null int64\n",
      "pupper            2175 non-null int64\n",
      "puppo             2175 non-null int64\n",
      "dtypes: float64(1), int64(7), object(4)\n",
      "memory usage: 204.0+ KB\n"
     ]
    }
   ],
   "source": [
    "df_visul.info()"
   ]
  },
  {
   "cell_type": "code",
   "execution_count": 64,
   "metadata": {},
   "outputs": [
    {
     "data": {
      "image/png": "[encoded data removed]",
      "text/plain": [
       "<matplotlib.figure.Figure at 0xcfe5748>"
      ]
     },
     "metadata": {},
     "output_type": "display_data"
    }
   ],
   "source": [
    "##plt.hist(df_visul['score'],bins=1)\n",
    "plt.subplot(121)\n",
    "df_visul['score'].plot.hist(bins=1000)\n",
    "plt.title(\"Distribution of score\")\n",
    "plt.xlabel('Score')\n",
    "plt.ylabel(\"Num\")\n",
    "plt.xlim([0,5])\n",
    "plt.subplot(122)\n",
    "plt.boxplot(df_visul['score'])\n",
    "plt.ylim([0,25])\n",
    "plt.show()\n",
    "plt.close()"
   ]
  },
  {
   "cell_type": "markdown",
   "metadata": {},
   "source": [
    "## 由评分箱线图可知\n",
    "### 1.大多数的评分集中在0.75-1.5之间（50%）。评分都较高，接近1，甚至大于1.\n",
    "### 2.大于2分的狗狗也不少，但是分布较散，最大可到8+分"
   ]
  },
  {
   "cell_type": "code",
   "execution_count": 65,
   "metadata": {},
   "outputs": [],
   "source": [
    "df_visul[\"status_score\"]=df_visul['doggo']+df_visul['floof']+df_visul['puppo']+df_visul['pupper']"
   ]
  },
  {
   "cell_type": "code",
   "execution_count": 66,
   "metadata": {},
   "outputs": [
    {
     "data": {
      "text/plain": [
       "count    383.000000\n",
       "mean       1.105561\n",
       "std        0.176936\n",
       "min        0.300000\n",
       "25%        1.000000\n",
       "50%        1.100000\n",
       "75%        1.200000\n",
       "max        1.400000\n",
       "Name: score, dtype: float64"
      ]
     },
     "execution_count": 66,
     "metadata": {},
     "output_type": "execute_result"
    }
   ],
   "source": [
    "df_visul.score[df_visul[\"status_score\"]>0].describe()"
   ]
  },
  {
   "cell_type": "code",
   "execution_count": 67,
   "metadata": {},
   "outputs": [],
   "source": [
    "# #“b”、绿色：“g”、红色：“r”、蓝绿：“c”、紫红：“m”、黄色：“y”、黑色：“k”等，\n",
    "# plt.bar(status_list,status.sort_values(ascending=False)  ,color=[\"c\",\"m\",\"y\",\"g\"])\n",
    "# plt.show()\n",
    "# plt.close()\n",
    "#构造身份统计字典\n",
    "status_list = ['doggo','floof','pupper','puppo']\n",
    "status_dict ={}\n",
    "for status in status_list:\n",
    "    status_dict[status] =sum(df_visul[status])\n",
    "status = pd.Series(status_dict)"
   ]
  },
  {
   "cell_type": "code",
   "execution_count": 68,
   "metadata": {},
   "outputs": [
    {
     "data": {
      "image/png": "[encoded data removed]",
      "text/plain": [
       "<matplotlib.figure.Figure at 0xa119c18>"
      ]
     },
     "metadata": {},
     "output_type": "display_data"
    }
   ],
   "source": [
    "status_sort = status.sort_values(ascending=False)\n",
    "status_sort.plot(kind='bar',figsize=(7,5))\n",
    "plt.title(\"Distribution of status\")\n",
    "plt.xlabel('Status')\n",
    "plt.ylabel(\"Num\")\n",
    "plt.axhline(status_sort.mean())\n",
    "plt.text(1/2,110,\"Mean:\"+ str(status_sort.mean()))\n",
    "plt.text(2,200,\"Totle：\"+str(status_sort.sum() ))\n",
    "plt.show()\n",
    "plt.close()\n"
   ]
  },
  {
   "cell_type": "markdown",
   "metadata": {},
   "source": [
    "## 由狗狗身份数量描述统计和条形图可知  \n",
    "### 3.狗狗身份难得，在2000+只狗狗中，只有383只有身份！  \n",
    "### 4.部分身份数量少，极其稀缺。例如blep只有一个狗狗有，snoot没有出现在这2000+只狗狗中\n"
   ]
  },
  {
   "cell_type": "code",
   "execution_count": 69,
   "metadata": {},
   "outputs": [],
   "source": [
    "#给时间分组\n",
    "# lable = ['2017年以后','2016下半年','2016上半年','2016年以前']\n",
    "ct = df_visul['created_at'] \n",
    "df_visul['created_time'] =  list(map(lambda x:'2017年以后' if x>'2017-01-01' else ('2016下半年' if '2016-07-01'< x <= '2017-01-01' else ('2016上半年' if '2016-01-01'< x <='2016-07-01' else '2016年以前' ) ) , ct))"
   ]
  },
  {
   "cell_type": "code",
   "execution_count": 74,
   "metadata": {},
   "outputs": [
    {
     "data": {
      "text/plain": [
       "<matplotlib.legend.Legend at 0xcd57c88>"
      ]
     },
     "execution_count": 74,
     "metadata": {},
     "output_type": "execute_result"
    },
    {
     "data": {
      "image/png": "[encoded data removed]",
      "text/plain": [
       "<matplotlib.figure.Figure at 0xa21be80>"
      ]
     },
     "metadata": {},
     "output_type": "display_data"
    }
   ],
   "source": [
    "from pylab import mpl\n",
    " \n",
    "mpl.rcParams['font.sans-serif'] = ['SimHei']   # 雅黑字体 \n",
    "plt.figure(figsize=(10,8))\n",
    "plt.grid(True)\n",
    "plt.xlabel('retweet_count',size=20)  \n",
    "plt.ylabel('favorite_count',size=20)\n",
    "plt.title(\"所有的狗狗点赞转发时间散点图\",size=20)   \n",
    "plt.text(60000,90000,\"大小表示分数多少\")\n",
    "\n",
    "ax22 = plt.gca()\n",
    "ax22.set_aspect(1)\n",
    "for color,legend in [('red','2017年以后'), ('green','2016下半年'), ('blue','2016上半年'),('yellow','2016年以前')]:\n",
    "    x =  df_visul.retweet_count[df_visul['created_time']==legend]\n",
    "    y =  df_visul.favorite_count[df_visul['created_time']==legend]\n",
    "    size = df_visul.score\n",
    "    plt.scatter(x, y, c=color,s=size*10,label=legend,alpha=0.2,edgecolors='none')\n",
    "plt.legend()\n",
    "\n"
   ]
  },
  {
   "cell_type": "markdown",
   "metadata": {},
   "source": [
    "### 由转发数和点赞数散点图可得\n",
    "#### 5.转发数量和点赞数量基本成正比\n",
    "#### 7.2017年以后发布的tweet，每一个转发带来的点赞数更多。可能原因（项目关注度）\n",
    "#### 8.从下面筛选可以看出。点赞和转发都高的狗狗评分不一定高,也不一定有身份\n",
    "#### 9.部分评分高的狗狗，点赞数却0。更加印证了数据有问题的猜测。"
   ]
  },
  {
   "cell_type": "code",
   "execution_count": 75,
   "metadata": {},
   "outputs": [
    {
     "data": {
      "text/html": [
       "<div>\n",
       "<style scoped>\n",
       "    .dataframe tbody tr th:only-of-type {\n",
       "        vertical-align: middle;\n",
       "    }\n",
       "\n",
       "    .dataframe tbody tr th {\n",
       "        vertical-align: top;\n",
       "    }\n",
       "\n",
       "    .dataframe thead th {\n",
       "        text-align: right;\n",
       "    }\n",
       "</style>\n",
       "<table border=\"1\" class=\"dataframe\">\n",
       "  <thead>\n",
       "    <tr style=\"text-align: right;\">\n",
       "      <th></th>\n",
       "      <th>score</th>\n",
       "      <th>doggo</th>\n",
       "      <th>pupper</th>\n",
       "      <th>puppo</th>\n",
       "      <th>floof</th>\n",
       "    </tr>\n",
       "  </thead>\n",
       "  <tbody>\n",
       "    <tr>\n",
       "      <th>63</th>\n",
       "      <td>1.3</td>\n",
       "      <td>0</td>\n",
       "      <td>0</td>\n",
       "      <td>0</td>\n",
       "      <td>0</td>\n",
       "    </tr>\n",
       "    <tr>\n",
       "      <th>71</th>\n",
       "      <td>1.3</td>\n",
       "      <td>0</td>\n",
       "      <td>0</td>\n",
       "      <td>0</td>\n",
       "      <td>0</td>\n",
       "    </tr>\n",
       "    <tr>\n",
       "      <th>103</th>\n",
       "      <td>1.3</td>\n",
       "      <td>0</td>\n",
       "      <td>0</td>\n",
       "      <td>0</td>\n",
       "      <td>0</td>\n",
       "    </tr>\n",
       "    <tr>\n",
       "      <th>119</th>\n",
       "      <td>1.3</td>\n",
       "      <td>0</td>\n",
       "      <td>1</td>\n",
       "      <td>0</td>\n",
       "      <td>0</td>\n",
       "    </tr>\n",
       "    <tr>\n",
       "      <th>147</th>\n",
       "      <td>1.2</td>\n",
       "      <td>0</td>\n",
       "      <td>0</td>\n",
       "      <td>0</td>\n",
       "      <td>0</td>\n",
       "    </tr>\n",
       "    <tr>\n",
       "      <th>348</th>\n",
       "      <td>1.3</td>\n",
       "      <td>0</td>\n",
       "      <td>0</td>\n",
       "      <td>1</td>\n",
       "      <td>0</td>\n",
       "    </tr>\n",
       "    <tr>\n",
       "      <th>374</th>\n",
       "      <td>1.4</td>\n",
       "      <td>0</td>\n",
       "      <td>0</td>\n",
       "      <td>0</td>\n",
       "      <td>0</td>\n",
       "    </tr>\n",
       "    <tr>\n",
       "      <th>445</th>\n",
       "      <td>1.3</td>\n",
       "      <td>0</td>\n",
       "      <td>0</td>\n",
       "      <td>0</td>\n",
       "      <td>0</td>\n",
       "    </tr>\n",
       "    <tr>\n",
       "      <th>447</th>\n",
       "      <td>1.3</td>\n",
       "      <td>0</td>\n",
       "      <td>0</td>\n",
       "      <td>0</td>\n",
       "      <td>0</td>\n",
       "    </tr>\n",
       "    <tr>\n",
       "      <th>862</th>\n",
       "      <td>1.3</td>\n",
       "      <td>1</td>\n",
       "      <td>0</td>\n",
       "      <td>0</td>\n",
       "      <td>0</td>\n",
       "    </tr>\n",
       "  </tbody>\n",
       "</table>\n",
       "</div>"
      ],
      "text/plain": [
       "     score  doggo  pupper  puppo  floof\n",
       "63     1.3      0       0      0      0\n",
       "71     1.3      0       0      0      0\n",
       "103    1.3      0       0      0      0\n",
       "119    1.3      0       1      0      0\n",
       "147    1.2      0       0      0      0\n",
       "348    1.3      0       0      1      0\n",
       "374    1.4      0       0      0      0\n",
       "445    1.3      0       0      0      0\n",
       "447    1.3      0       0      0      0\n",
       "862    1.3      1       0      0      0"
      ]
     },
     "execution_count": 75,
     "metadata": {},
     "output_type": "execute_result"
    }
   ],
   "source": [
    "df_visul[df_visul.favorite_count>80000][['score','doggo','pupper','puppo',\"floof\"]]"
   ]
  },
  {
   "cell_type": "code",
   "execution_count": 76,
   "metadata": {},
   "outputs": [
    {
     "data": {
      "text/html": [
       "<div>\n",
       "<style scoped>\n",
       "    .dataframe tbody tr th:only-of-type {\n",
       "        vertical-align: middle;\n",
       "    }\n",
       "\n",
       "    .dataframe tbody tr th {\n",
       "        vertical-align: top;\n",
       "    }\n",
       "\n",
       "    .dataframe thead th {\n",
       "        text-align: right;\n",
       "    }\n",
       "</style>\n",
       "<table border=\"1\" class=\"dataframe\">\n",
       "  <thead>\n",
       "    <tr style=\"text-align: right;\">\n",
       "      <th></th>\n",
       "      <th>score</th>\n",
       "      <th>doggo</th>\n",
       "      <th>pupper</th>\n",
       "      <th>puppo</th>\n",
       "      <th>floof</th>\n",
       "    </tr>\n",
       "  </thead>\n",
       "  <tbody>\n",
       "    <tr>\n",
       "      <th>162</th>\n",
       "      <td>42.00</td>\n",
       "      <td>0</td>\n",
       "      <td>0</td>\n",
       "      <td>0</td>\n",
       "      <td>0</td>\n",
       "    </tr>\n",
       "    <tr>\n",
       "      <th>163</th>\n",
       "      <td>66.60</td>\n",
       "      <td>0</td>\n",
       "      <td>0</td>\n",
       "      <td>0</td>\n",
       "      <td>0</td>\n",
       "    </tr>\n",
       "    <tr>\n",
       "      <th>246</th>\n",
       "      <td>18.20</td>\n",
       "      <td>0</td>\n",
       "      <td>0</td>\n",
       "      <td>0</td>\n",
       "      <td>0</td>\n",
       "    </tr>\n",
       "    <tr>\n",
       "      <th>429</th>\n",
       "      <td>3.43</td>\n",
       "      <td>0</td>\n",
       "      <td>0</td>\n",
       "      <td>0</td>\n",
       "      <td>0</td>\n",
       "    </tr>\n",
       "    <tr>\n",
       "      <th>804</th>\n",
       "      <td>177.60</td>\n",
       "      <td>0</td>\n",
       "      <td>0</td>\n",
       "      <td>0</td>\n",
       "      <td>0</td>\n",
       "    </tr>\n",
       "    <tr>\n",
       "      <th>1895</th>\n",
       "      <td>42.00</td>\n",
       "      <td>0</td>\n",
       "      <td>0</td>\n",
       "      <td>0</td>\n",
       "      <td>0</td>\n",
       "    </tr>\n",
       "  </tbody>\n",
       "</table>\n",
       "</div>"
      ],
      "text/plain": [
       "       score  doggo  pupper  puppo  floof\n",
       "162    42.00      0       0      0      0\n",
       "163    66.60      0       0      0      0\n",
       "246    18.20      0       0      0      0\n",
       "429     3.43      0       0      0      0\n",
       "804   177.60      0       0      0      0\n",
       "1895   42.00      0       0      0      0"
      ]
     },
     "execution_count": 76,
     "metadata": {},
     "output_type": "execute_result"
    }
   ],
   "source": [
    "#评分高的狗狗信息\n",
    "df_visul[df_visul.score>2][['score','doggo','pupper','puppo',\"floof\"]]"
   ]
  },
  {
   "cell_type": "markdown",
   "metadata": {},
   "source": [
    "### 10.评分、点赞和转发前10的狗狗也不一定有身份"
   ]
  },
  {
   "cell_type": "code",
   "execution_count": 77,
   "metadata": {},
   "outputs": [],
   "source": [
    "#筛选身份信息\n",
    "df_visul['status']=df_visul['doggo']+df_visul['pupper']+df_visul['puppo']+df_visul['floof']\n",
    "#有身份的狗狗\n",
    "df_status = df_visul[['favorite_count','retweet_count','score','created_time','created_at','status']][df_visul['status']>0]"
   ]
  },
  {
   "cell_type": "code",
   "execution_count": 78,
   "metadata": {},
   "outputs": [
    {
     "data": {
      "text/html": [
       "<div>\n",
       "<style scoped>\n",
       "    .dataframe tbody tr th:only-of-type {\n",
       "        vertical-align: middle;\n",
       "    }\n",
       "\n",
       "    .dataframe tbody tr th {\n",
       "        vertical-align: top;\n",
       "    }\n",
       "\n",
       "    .dataframe thead th {\n",
       "        text-align: right;\n",
       "    }\n",
       "</style>\n",
       "<table border=\"1\" class=\"dataframe\">\n",
       "  <thead>\n",
       "    <tr style=\"text-align: right;\">\n",
       "      <th></th>\n",
       "      <th>favorite_count</th>\n",
       "      <th>retweet_count</th>\n",
       "      <th>score</th>\n",
       "      <th>status</th>\n",
       "    </tr>\n",
       "  </thead>\n",
       "  <tbody>\n",
       "    <tr>\n",
       "      <th>count</th>\n",
       "      <td>383.000000</td>\n",
       "      <td>383.000000</td>\n",
       "      <td>383.000000</td>\n",
       "      <td>383.00000</td>\n",
       "    </tr>\n",
       "    <tr>\n",
       "      <th>mean</th>\n",
       "      <td>10203.331593</td>\n",
       "      <td>3408.973890</td>\n",
       "      <td>1.105561</td>\n",
       "      <td>1.02611</td>\n",
       "    </tr>\n",
       "    <tr>\n",
       "      <th>std</th>\n",
       "      <td>14688.636332</td>\n",
       "      <td>6494.427094</td>\n",
       "      <td>0.176936</td>\n",
       "      <td>0.15967</td>\n",
       "    </tr>\n",
       "    <tr>\n",
       "      <th>min</th>\n",
       "      <td>195.000000</td>\n",
       "      <td>3.000000</td>\n",
       "      <td>0.300000</td>\n",
       "      <td>1.00000</td>\n",
       "    </tr>\n",
       "    <tr>\n",
       "      <th>25%</th>\n",
       "      <td>2684.000000</td>\n",
       "      <td>831.500000</td>\n",
       "      <td>1.000000</td>\n",
       "      <td>1.00000</td>\n",
       "    </tr>\n",
       "    <tr>\n",
       "      <th>50%</th>\n",
       "      <td>4909.000000</td>\n",
       "      <td>1598.000000</td>\n",
       "      <td>1.100000</td>\n",
       "      <td>1.00000</td>\n",
       "    </tr>\n",
       "    <tr>\n",
       "      <th>75%</th>\n",
       "      <td>12116.500000</td>\n",
       "      <td>3550.000000</td>\n",
       "      <td>1.200000</td>\n",
       "      <td>1.00000</td>\n",
       "    </tr>\n",
       "    <tr>\n",
       "      <th>max</th>\n",
       "      <td>132318.000000</td>\n",
       "      <td>79116.000000</td>\n",
       "      <td>1.400000</td>\n",
       "      <td>2.00000</td>\n",
       "    </tr>\n",
       "  </tbody>\n",
       "</table>\n",
       "</div>"
      ],
      "text/plain": [
       "       favorite_count  retweet_count       score     status\n",
       "count      383.000000     383.000000  383.000000  383.00000\n",
       "mean     10203.331593    3408.973890    1.105561    1.02611\n",
       "std      14688.636332    6494.427094    0.176936    0.15967\n",
       "min        195.000000       3.000000    0.300000    1.00000\n",
       "25%       2684.000000     831.500000    1.000000    1.00000\n",
       "50%       4909.000000    1598.000000    1.100000    1.00000\n",
       "75%      12116.500000    3550.000000    1.200000    1.00000\n",
       "max     132318.000000   79116.000000    1.400000    2.00000"
      ]
     },
     "execution_count": 78,
     "metadata": {},
     "output_type": "execute_result"
    }
   ],
   "source": [
    "#有身份的狗狗描述统计\n",
    "df_status.describe()"
   ]
  },
  {
   "cell_type": "code",
   "execution_count": 79,
   "metadata": {},
   "outputs": [
    {
     "data": {
      "text/html": [
       "<div>\n",
       "<style scoped>\n",
       "    .dataframe tbody tr th:only-of-type {\n",
       "        vertical-align: middle;\n",
       "    }\n",
       "\n",
       "    .dataframe tbody tr th {\n",
       "        vertical-align: top;\n",
       "    }\n",
       "\n",
       "    .dataframe thead th {\n",
       "        text-align: right;\n",
       "    }\n",
       "</style>\n",
       "<table border=\"1\" class=\"dataframe\">\n",
       "  <thead>\n",
       "    <tr style=\"text-align: right;\">\n",
       "      <th></th>\n",
       "      <th>favorite_count</th>\n",
       "      <th>retweet_count</th>\n",
       "      <th>score</th>\n",
       "      <th>status</th>\n",
       "    </tr>\n",
       "  </thead>\n",
       "  <tbody>\n",
       "    <tr>\n",
       "      <th>count</th>\n",
       "      <td>2175.000000</td>\n",
       "      <td>2175.000000</td>\n",
       "      <td>2175.000000</td>\n",
       "      <td>2175.000000</td>\n",
       "    </tr>\n",
       "    <tr>\n",
       "      <th>mean</th>\n",
       "      <td>8769.120000</td>\n",
       "      <td>2759.735632</td>\n",
       "      <td>1.219011</td>\n",
       "      <td>0.180690</td>\n",
       "    </tr>\n",
       "    <tr>\n",
       "      <th>std</th>\n",
       "      <td>12224.417865</td>\n",
       "      <td>4682.731540</td>\n",
       "      <td>4.244435</td>\n",
       "      <td>0.396622</td>\n",
       "    </tr>\n",
       "    <tr>\n",
       "      <th>min</th>\n",
       "      <td>52.000000</td>\n",
       "      <td>0.000000</td>\n",
       "      <td>0.000000</td>\n",
       "      <td>0.000000</td>\n",
       "    </tr>\n",
       "    <tr>\n",
       "      <th>25%</th>\n",
       "      <td>1904.500000</td>\n",
       "      <td>605.500000</td>\n",
       "      <td>1.000000</td>\n",
       "      <td>0.000000</td>\n",
       "    </tr>\n",
       "    <tr>\n",
       "      <th>50%</th>\n",
       "      <td>4023.000000</td>\n",
       "      <td>1336.000000</td>\n",
       "      <td>1.100000</td>\n",
       "      <td>0.000000</td>\n",
       "    </tr>\n",
       "    <tr>\n",
       "      <th>75%</th>\n",
       "      <td>11072.000000</td>\n",
       "      <td>3202.000000</td>\n",
       "      <td>1.200000</td>\n",
       "      <td>0.000000</td>\n",
       "    </tr>\n",
       "    <tr>\n",
       "      <th>max</th>\n",
       "      <td>132318.000000</td>\n",
       "      <td>79116.000000</td>\n",
       "      <td>177.600000</td>\n",
       "      <td>2.000000</td>\n",
       "    </tr>\n",
       "  </tbody>\n",
       "</table>\n",
       "</div>"
      ],
      "text/plain": [
       "       favorite_count  retweet_count        score       status\n",
       "count     2175.000000    2175.000000  2175.000000  2175.000000\n",
       "mean      8769.120000    2759.735632     1.219011     0.180690\n",
       "std      12224.417865    4682.731540     4.244435     0.396622\n",
       "min         52.000000       0.000000     0.000000     0.000000\n",
       "25%       1904.500000     605.500000     1.000000     0.000000\n",
       "50%       4023.000000    1336.000000     1.100000     0.000000\n",
       "75%      11072.000000    3202.000000     1.200000     0.000000\n",
       "max     132318.000000   79116.000000   177.600000     2.000000"
      ]
     },
     "execution_count": 79,
     "metadata": {},
     "output_type": "execute_result"
    }
   ],
   "source": [
    "#所有狗狗描述统计\n",
    "df_visul[['favorite_count','retweet_count','score','status']].describe()"
   ]
  },
  {
   "cell_type": "markdown",
   "metadata": {},
   "source": [
    "## 有身份和没身份对比\n",
    "\n",
    "### 11.有身份的狗狗，评分也不是很高，和上面的观察吻合\n",
    "### 12.但是转发和点赞数均比整个数据集高一点。此处需要做假设检吗？应该用什么方法做假设检验"
   ]
  },
  {
   "cell_type": "code",
   "execution_count": 80,
   "metadata": {},
   "outputs": [],
   "source": [
    "# from scipy import stats \n",
    "# # plt.hist(df_visul.score,bins=300)"
   ]
  },
  {
   "cell_type": "code",
   "execution_count": 81,
   "metadata": {},
   "outputs": [
    {
     "data": {
      "image/png": "[encoded data removed]",
      "text/plain": [
       "<matplotlib.figure.Figure at 0xd7bc208>"
      ]
     },
     "metadata": {},
     "output_type": "display_data"
    }
   ],
   "source": [
    "from pylab import mpl \n",
    "import numpy as np \n",
    "mpl.rcParams['font.sans-serif'] = ['SimHei']   # 雅黑字体 \n",
    "x = df_status.retweet_count\n",
    "y = df_status.favorite_count\n",
    "color = pd.to_datetime(df_status.created_at)\n",
    "scale =df_status.score\n",
    "cm = plt.cm.get_cmap('RdYlBu')  \n",
    "\n",
    "ax2 = plt.scatter(x,y,c=color,s=scale*100,alpha=0.9,edgecolors='none',cmap=cm)\n",
    "plt.grid(True)\n",
    "plt.colorbar(ax2)  \n",
    "\n",
    "plt.xlabel('retweet_count')  \n",
    "plt.ylabel('favorite_count')\n",
    "plt.title(\"有身份的狗狗点赞转发时间散点图\")  \n",
    "plt.show()"
   ]
  },
  {
   "cell_type": "markdown",
   "metadata": {},
   "source": [
    "   ## 由有身份的狗狗点赞转发发布时间散点图 可知\n",
    "### 13.有身份的狗狗，分布和整个数据集相似\n",
    "### 14.所有的有身份狗狗，评分相差不大\n",
    "### 15.点赞数和转发数量最极端的几只狗狗，都是较晚发布的（橙黄色以后）。"
   ]
  },
  {
   "cell_type": "code",
   "execution_count": 82,
   "metadata": {},
   "outputs": [],
   "source": [
    "df_status['created_at_ym']=df_status['created_at'].str[:7]\n",
    "df_visul['created_at_ym']=df_visul['created_at'].str[:7]"
   ]
  },
  {
   "cell_type": "code",
   "execution_count": 83,
   "metadata": {},
   "outputs": [
    {
     "data": {
      "text/plain": [
       "Text(0,0.5,'score')"
      ]
     },
     "execution_count": 83,
     "metadata": {},
     "output_type": "execute_result"
    },
    {
     "data": {
      "image/png": "[encoded data removed]",
      "text/plain": [
       "<matplotlib.figure.Figure at 0xcf894a8>"
      ]
     },
     "metadata": {},
     "output_type": "display_data"
    }
   ],
   "source": [
    "plt.figure(figsize=(20,10))\n",
    "plt.scatter(y=df_status['score'],x=df_status['created_at_ym'],alpha=1)\n",
    "plt.ylim(0,2)\n",
    "plt.title('Score over time')\n",
    "plt.xlabel('created_at')\n",
    "plt.ylabel('score')"
   ]
  },
  {
   "cell_type": "code",
   "execution_count": 84,
   "metadata": {},
   "outputs": [
    {
     "data": {
      "text/plain": [
       "Text(0,0.5,'score')"
      ]
     },
     "execution_count": 84,
     "metadata": {},
     "output_type": "execute_result"
    },
    {
     "data": {
      "image/png": "[encoded data removed]",
      "text/plain": [
       "<matplotlib.figure.Figure at 0xc279eb8>"
      ]
     },
     "metadata": {},
     "output_type": "display_data"
    }
   ],
   "source": [
    "plt.figure(figsize=(20,10))\n",
    "plt.scatter(y=df_visul['score'],x=df_visul['created_at_ym'],alpha=0.5)\n",
    "plt.ylim(0,2)\n",
    "plt.title('Score over time')\n",
    "plt.xlabel('created_at')\n",
    "plt.ylabel('score')"
   ]
  },
  {
   "cell_type": "markdown",
   "metadata": {},
   "source": [
    "### 评分大多分布在1.0-1.4之间，在2016-10之后更明显，低于1.0分出现得更少了\n",
    "### 猜测原因：\n",
    "    主观原因：项目受到更多的关注，低分对狗狗及主人也许会有较大的影响，所以倾向于给一个相对之前较高的分数\n",
    "    客观原因：项目越来越火，受到的关注更多，发照片的网友形成了一些共识，例如发些可以引人捧腹照片，而这些共识里是主办方打分的关键因素。"
   ]
  },
  {
   "cell_type": "code",
   "execution_count": 85,
   "metadata": {},
   "outputs": [
    {
     "data": {
      "text/plain": [
       "<matplotlib.axes._subplots.AxesSubplot at 0xc2dd908>"
      ]
     },
     "execution_count": 85,
     "metadata": {},
     "output_type": "execute_result"
    },
    {
     "data": {
      "image/png": "[encoded data removed]",
      "text/plain": [
       "<matplotlib.figure.Figure at 0xc2d1ba8>"
      ]
     },
     "metadata": {},
     "output_type": "display_data"
    }
   ],
   "source": [
    "plt.subplot(121)\n",
    "plt.title(\"有身份的\")\n",
    "df_status[['favorite_count','retweet_count']].boxplot()\n",
    "plt.subplot(122)\n",
    "plt.title(\"整体\")\n",
    "df_visul[['favorite_count','retweet_count']].boxplot()"
   ]
  },
  {
   "cell_type": "markdown",
   "metadata": {},
   "source": []
  },
  {
   "cell_type": "code",
   "execution_count": 86,
   "metadata": {},
   "outputs": [
    {
     "data": {
      "text/plain": [
       "<matplotlib.axes._subplots.AxesSubplot at 0xa11c358>"
      ]
     },
     "execution_count": 86,
     "metadata": {},
     "output_type": "execute_result"
    },
    {
     "data": {
      "image/png": "[encoded data removed]",
      "text/plain": [
       "<matplotlib.figure.Figure at 0xcd76780>"
      ]
     },
     "metadata": {},
     "output_type": "display_data"
    }
   ],
   "source": [
    "plt.subplot(121)\n",
    "plt.title(\"有身份的\")\n",
    "df_status['score'].plot.box()\n",
    "plt.subplot(122)\n",
    "plt.title(\"整体\")\n",
    "df_visul['score'].plot.box()"
   ]
  },
  {
   "cell_type": "markdown",
   "metadata": {},
   "source": [
    "###  有身份的狗狗，无论是在点赞数、转发数还是在评分上都比整体要高。尤其是评分的差距更为明显。即可以得出一个结论，符合某一身份的狗狗，会被给予更高的评分。"
   ]
  },
  {
   "cell_type": "markdown",
   "metadata": {},
   "source": [
    "## img"
   ]
  },
  {
   "cell_type": "code",
   "execution_count": 87,
   "metadata": {},
   "outputs": [
    {
     "name": "stdout",
     "output_type": "stream",
     "text": [
      "<class 'pandas.core.frame.DataFrame'>\n",
      "RangeIndex: 2075 entries, 0 to 2074\n",
      "Data columns (total 12 columns):\n",
      "tweet_id    2075 non-null int64\n",
      "jpg_url     2075 non-null object\n",
      "img_num     2075 non-null int64\n",
      "p1          2075 non-null object\n",
      "p1_conf     2075 non-null float64\n",
      "p1_dog      2075 non-null bool\n",
      "p2          2075 non-null object\n",
      "p2_conf     2075 non-null float64\n",
      "p2_dog      2075 non-null bool\n",
      "p3          2075 non-null object\n",
      "p3_conf     2075 non-null float64\n",
      "p3_dog      2075 non-null bool\n",
      "dtypes: bool(3), float64(3), int64(2), object(4)\n",
      "memory usage: 152.1+ KB\n"
     ]
    }
   ],
   "source": [
    "df_img.info()"
   ]
  },
  {
   "cell_type": "code",
   "execution_count": 88,
   "metadata": {},
   "outputs": [
    {
     "data": {
      "image/png": "[encoded data removed]",
      "text/plain": [
       "<matplotlib.figure.Figure at 0xcca75f8>"
      ]
     },
     "metadata": {},
     "output_type": "display_data"
    }
   ],
   "source": [
    "    df_img.p1.value_counts().head(10).plot(kind='barh')\n",
    "plt.show()"
   ]
  },
  {
   "cell_type": "code",
   "execution_count": 89,
   "metadata": {},
   "outputs": [
    {
     "name": "stdout",
     "output_type": "stream",
     "text": [
      "<class 'pandas.core.frame.DataFrame'>\n",
      "Int64Index: 1994 entries, 0 to 1993\n",
      "Data columns (total 24 columns):\n",
      "created_at        1994 non-null datetime64[ns]\n",
      "expanded_url      1994 non-null object\n",
      "favorite_count    1994 non-null int32\n",
      "full_text         1994 non-null object\n",
      "id                1994 non-null object\n",
      "retweet_count     1994 non-null int32\n",
      "score             1994 non-null float64\n",
      "name              1370 non-null object\n",
      "doggo             1994 non-null int32\n",
      "floof             1994 non-null int32\n",
      "pupper            1994 non-null int32\n",
      "puppo             1994 non-null int32\n",
      "tweet_id          1994 non-null int64\n",
      "jpg_url           1994 non-null object\n",
      "img_num           1994 non-null int64\n",
      "p1                1994 non-null object\n",
      "p1_conf           1994 non-null float64\n",
      "p1_dog            1994 non-null bool\n",
      "p2                1994 non-null object\n",
      "p2_conf           1994 non-null float64\n",
      "p2_dog            1994 non-null bool\n",
      "p3                1994 non-null object\n",
      "p3_conf           1994 non-null float64\n",
      "p3_dog            1994 non-null bool\n",
      "dtypes: bool(3), datetime64[ns](1), float64(4), int32(6), int64(2), object(8)\n",
      "memory usage: 301.8+ KB\n"
     ]
    }
   ],
   "source": [
    "df_merge = pd.merge(df_clean,df_img,how='inner',left_on='id',right_on='tweet_id',left_index=False)\n",
    "df_merge=df_merge.drop_duplicates()\n",
    "#df_merge = df_merge.reindex(range(2352))\n",
    "df_merge.info()"
   ]
  },
  {
   "cell_type": "code",
   "execution_count": 90,
   "metadata": {},
   "outputs": [
    {
     "data": {
      "text/plain": [
       "<matplotlib.axes._subplots.AxesSubplot at 0xcd5e5c0>"
      ]
     },
     "execution_count": 90,
     "metadata": {},
     "output_type": "execute_result"
    },
    {
     "data": {
      "image/png": "[encoded data removed]",
      "text/plain": [
       "<matplotlib.figure.Figure at 0xc8cc2e8>"
      ]
     },
     "metadata": {},
     "output_type": "display_data"
    }
   ],
   "source": [
    "df_merge[df_merge['p1_dog']][['favorite_count','retweet_count',\"score\"]].plot.box()"
   ]
  }
 ],
 "metadata": {
  "kernelspec": {
   "display_name": "Python 3",
   "language": "python",
   "name": "python3"
  },
  "language_info": {
   "codemirror_mode": {
    "name": "ipython",
    "version": 3
   },
   "file_extension": ".py",
   "mimetype": "text/x-python",
   "name": "python",
   "nbconvert_exporter": "python",
   "pygments_lexer": "ipython3",
   "version": "3.6.4"
  }
 },
 "nbformat": 4,
 "nbformat_minor": 2
}
